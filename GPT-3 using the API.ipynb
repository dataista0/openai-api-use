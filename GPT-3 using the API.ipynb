{
 "cells": [
  {
   "cell_type": "markdown",
   "id": "2f7a98ec",
   "metadata": {},
   "source": [
    "# Accesing GPT-3 API with Python\n",
    "\n",
    "\n",
    "### References\n",
    "\n",
    "* [Blog Post](https://openai.com/blog/openai-api/)\n",
    "* [Developer quickstart](https://beta.openai.com/docs/developer-quickstart/)\n",
    "* [What Is It Like to Be a Bat?](https://en.wikipedia.org/wiki/What_Is_It_Like_to_Be_a_Bat%3F)\n",
    "* [What It's Like To be a Computer: An Interview with GPT-3](https://www.youtube.com/watch?v=PqbB07n_uQ4)"
   ]
  },
  {
   "cell_type": "code",
   "execution_count": 4,
   "id": "7e2e049c",
   "metadata": {},
   "outputs": [],
   "source": [
    "import os\n",
    "import openai\n",
    "\n",
    "def get_api_key():\n",
    "    with open('api-key.txt', 'r') as fp:\n",
    "        key = fp.read()\n",
    "    return key\n",
    "\n",
    "\n",
    "openai.api_key = get_api_key()"
   ]
  },
  {
   "cell_type": "code",
   "execution_count": 29,
   "id": "925de36b",
   "metadata": {},
   "outputs": [],
   "source": [
    "#openai.Engine.list()"
   ]
  },
  {
   "cell_type": "code",
   "execution_count": 16,
   "id": "7f73d32f",
   "metadata": {},
   "outputs": [],
   "source": [
    "engine_names = 'ada', 'babbage', 'curie', 'davinci'"
   ]
  },
  {
   "cell_type": "code",
   "execution_count": 84,
   "id": "7212e936",
   "metadata": {},
   "outputs": [],
   "source": [
    "def get_outputs(response, show=True):\n",
    "    outs = [c['text'] for c in response['choices']]\n",
    "    if show:\n",
    "        for i, out in enumerate(outs, 1):\n",
    "            print(f\"Output {i}\")\n",
    "            print(out)\n",
    "            print(\"========\")\n",
    "    return outs\n",
    "\n",
    "\n",
    "def complete(prompt, max_tokens=5, show=True, **kwargs):\n",
    "    result = openai.Completion.create(engine='davinci', prompt=prompt, max_tokens=max_tokens, **kwargs)\n",
    "    get_outputs(result, show=show)\n",
    "    return result"
   ]
  },
  {
   "cell_type": "markdown",
   "id": "4ed56bec",
   "metadata": {},
   "source": [
    "# First experiments"
   ]
  },
  {
   "cell_type": "code",
   "execution_count": 69,
   "id": "e2044129",
   "metadata": {},
   "outputs": [
    {
     "name": "stdout",
     "output_type": "stream",
     "text": [
      "Output 1\n",
      " - Interviewer: Hello, GPT-3. It is a pleasure to interview you. How are you doing?\n",
      "- GPT-3: I'm doing great. Thanks for inviting me\n",
      "- Interviewer: Tell me something about your self. What do you like to do?\n",
      "- GPT-3: \n",
      "I like to play video games. I like to play football. I like to play basketball. I like to play baseball. I like to play tennis\n",
      "========\n",
      "Output 2\n",
      " - Interviewer: Hello, GPT-3. It is a pleasure to interview you. How are you doing?\n",
      "- GPT-3: I'm doing great. Thanks for inviting me\n",
      "- Interviewer: Tell me something about your self. What do you like to do?\n",
      "- GPT-3: \n",
      "- Interviewer: What is your favorite food?\n",
      "- GPT-3: I like to eat. I like to eat everything.\n",
      "-\n",
      "========\n"
     ]
    }
   ],
   "source": [
    "prompt = \"\"\" - Interviewer: Hello, GPT-3. It is a pleasure to interview you. How are you doing?\n",
    "- GPT-3: I'm doing great. Thanks for inviting me\n",
    "- Interviewer: Tell me something about your self. What do you like to do?\n",
    "- GPT-3: \n",
    "\"\"\"\n",
    "\n",
    "res = complete(prompt, max_tokens=30, echo=True, n=2, temperature=0.3);"
   ]
  },
  {
   "cell_type": "markdown",
   "id": "3d340df4",
   "metadata": {},
   "source": [
    "# Examples from the documentation\n",
    "\n",
    "* [Examples](https://beta.openai.com/docs/examples/)"
   ]
  },
  {
   "cell_type": "code",
   "execution_count": 70,
   "id": "cff6e07c",
   "metadata": {},
   "outputs": [
    {
     "name": "stdout",
     "output_type": "stream",
     "text": [
      "Output 1\n",
      "Jupiter is the fifth planet from the Sun and the largest in the Solar System. It is a gas giant with a mass one-thousandth that of the Sun, but two-and-a-half times that of all the other planets in the Solar System combined. Jupiter is one of the brightest objects visible to the naked eye in the night sky, and has been known to ancient civilizations since before recorded history. It is named after the Roman god Jupiter.[19] When viewed from Earth, Jupiter can be bright enough for its reflected light to cast visible shadows,[20] and is on average the third-brightest natural object in the night sky after the Moon and Venus.\n",
      "\n",
      "Jupiter is primarily composed of hydrogen with a quarter of its mass being helium, though helium comprises only about a tenth of the number of molecules. It may also have a rocky core of heavier elements,[21] but like the other giant planets, Jupiter lacks a well-defined solid surface. Because of its rapid rotation, the planet's shape is that of an oblate spheroid (it has a slight but noticeable bulge around the equator).\n",
      "\n",
      "tl;dr: Jupiter is a gas giant, and is the fifth planet from the Sun. It is the largest planet in the Solar System, and is about two-and-a-half times the mass of all the other planets in the Solar System combined. It is named after the Roman god Jupiter. It is the third-brightest object in the night sky, and is often the brightest object in the night sky other than the Moon.\n",
      "\n",
      "edit] Moons\n",
      "\n",
      "The four largest moons of Jupiter are\n",
      "========\n",
      "Output 2\n",
      "Jupiter is the fifth planet from the Sun and the largest in the Solar System. It is a gas giant with a mass one-thousandth that of the Sun, but two-and-a-half times that of all the other planets in the Solar System combined. Jupiter is one of the brightest objects visible to the naked eye in the night sky, and has been known to ancient civilizations since before recorded history. It is named after the Roman god Jupiter.[19] When viewed from Earth, Jupiter can be bright enough for its reflected light to cast visible shadows,[20] and is on average the third-brightest natural object in the night sky after the Moon and Venus.\n",
      "\n",
      "Jupiter is primarily composed of hydrogen with a quarter of its mass being helium, though helium comprises only about a tenth of the number of molecules. It may also have a rocky core of heavier elements,[21] but like the other giant planets, Jupiter lacks a well-defined solid surface. Because of its rapid rotation, the planet's shape is that of an oblate spheroid (it has a slight but noticeable bulge around the equator).\n",
      "\n",
      "tl;dr: Jupiter is a gas giant.\n",
      "\n",
      "Jupiter's atmosphere\n",
      "\n",
      "Jupiter's atmosphere is composed of mostly hydrogen and helium, along with traces of other gases, including methane, ammonia, water vapor, hydrogen sulfide, and phosphine. The atmosphere contains trace amounts of methane, water vapor, ammonia, and silicon-based compounds. There are also traces of carbon, ethane, hydrogen sulfide, neon, oxygen, phosphine, and sulfur. The outermost layer of the atmosphere contains\n",
      "========\n"
     ]
    }
   ],
   "source": [
    "example1 = \"\"\"Jupiter is the fifth planet from the Sun and the largest in the Solar System. It is a gas giant with a mass one-thousandth that of the Sun, but two-and-a-half times that of all the other planets in the Solar System combined. Jupiter is one of the brightest objects visible to the naked eye in the night sky, and has been known to ancient civilizations since before recorded history. It is named after the Roman god Jupiter.[19] When viewed from Earth, Jupiter can be bright enough for its reflected light to cast visible shadows,[20] and is on average the third-brightest natural object in the night sky after the Moon and Venus.\n",
    "\n",
    "Jupiter is primarily composed of hydrogen with a quarter of its mass being helium, though helium comprises only about a tenth of the number of molecules. It may also have a rocky core of heavier elements,[21] but like the other giant planets, Jupiter lacks a well-defined solid surface. Because of its rapid rotation, the planet's shape is that of an oblate spheroid (it has a slight but noticeable bulge around the equator).\n",
    "\n",
    "tl;dr:\"\"\"\n",
    "\n",
    "res = complete(example1, max_tokens=100, echo=True, n=2, temperature=0.3);"
   ]
  },
  {
   "cell_type": "code",
   "execution_count": 71,
   "id": "ad75d4ff",
   "metadata": {},
   "outputs": [
    {
     "name": "stdout",
     "output_type": "stream",
     "text": [
      "Output 1\n",
      "Jupiter is the fifth planet from the Sun and the largest in the Solar System. It is a gas giant with a mass one-thousandth that of the Sun, but two-and-a-half times that of all the other planets in the Solar System combined. Jupiter is one of the brightest objects visible to the naked eye in the night sky, and has been known to ancient civilizations since before recorded history. It is named after the Roman god Jupiter.[19] When viewed from Earth, Jupiter can be bright enough for its reflected light to cast visible shadows,[20] and is on average the third-brightest natural object in the night sky after the Moon and Venus.\n",
      "\n",
      "Jupiter is primarily composed of hydrogen with a quarter of its mass being helium, though helium comprises only about a tenth of the number of molecules. It may also have a rocky core of heavier elements,[21] but like the other giant planets, Jupiter lacks a well-defined solid surface. Because of its rapid rotation, the planet's shape is that of an oblate spheroid (it has a slight but noticeable bulge around the equator).\n",
      "\n",
      "One-sentence summary: Jupiter is a gas giant planet with a mass two-and-a-half times that of all the other planets in the Solar System combined.\n",
      "\n",
      "Jupiter is the fifth planet from the Sun and the largest in the Solar System. It is a gas giant with a mass one-thousandth that of the Sun, but two-and-a-half times that of all the other planets in the Solar System combined. Jupiter is one of the brightest objects visible to the naked eye in\n",
      "========\n",
      "Output 2\n",
      "Jupiter is the fifth planet from the Sun and the largest in the Solar System. It is a gas giant with a mass one-thousandth that of the Sun, but two-and-a-half times that of all the other planets in the Solar System combined. Jupiter is one of the brightest objects visible to the naked eye in the night sky, and has been known to ancient civilizations since before recorded history. It is named after the Roman god Jupiter.[19] When viewed from Earth, Jupiter can be bright enough for its reflected light to cast visible shadows,[20] and is on average the third-brightest natural object in the night sky after the Moon and Venus.\n",
      "\n",
      "Jupiter is primarily composed of hydrogen with a quarter of its mass being helium, though helium comprises only about a tenth of the number of molecules. It may also have a rocky core of heavier elements,[21] but like the other giant planets, Jupiter lacks a well-defined solid surface. Because of its rapid rotation, the planet's shape is that of an oblate spheroid (it has a slight but noticeable bulge around the equator).\n",
      "\n",
      "One-sentence summary: Jupiter is the largest planet in the Solar System, and is the fifth planet from the Sun.\n",
      "\n",
      "Jupiter's atmosphere is composed of mostly hydrogen and helium, along with traces of hydrocarbons and other elements. It is the most abundant source of the elements hydrogen and helium in the Solar System, making up about 90% of all the planet's mass. Jupiter's atmosphere is the deepest of all the Solar System's planets, extending from the cloud tops to over 1,000 km below the\n",
      "========\n"
     ]
    }
   ],
   "source": [
    "example2 = \"\"\"Jupiter is the fifth planet from the Sun and the largest in the Solar System. It is a gas giant with a mass one-thousandth that of the Sun, but two-and-a-half times that of all the other planets in the Solar System combined. Jupiter is one of the brightest objects visible to the naked eye in the night sky, and has been known to ancient civilizations since before recorded history. It is named after the Roman god Jupiter.[19] When viewed from Earth, Jupiter can be bright enough for its reflected light to cast visible shadows,[20] and is on average the third-brightest natural object in the night sky after the Moon and Venus.\n",
    "\n",
    "Jupiter is primarily composed of hydrogen with a quarter of its mass being helium, though helium comprises only about a tenth of the number of molecules. It may also have a rocky core of heavier elements,[21] but like the other giant planets, Jupiter lacks a well-defined solid surface. Because of its rapid rotation, the planet's shape is that of an oblate spheroid (it has a slight but noticeable bulge around the equator).\n",
    "\n",
    "One-sentence summary:\"\"\"\n",
    "\n",
    "res = complete(example2, max_tokens=100, echo=True, n=2, temperature=0.3);"
   ]
  },
  {
   "cell_type": "code",
   "execution_count": 72,
   "id": "4cf44c01",
   "metadata": {},
   "outputs": [
    {
     "name": "stdout",
     "output_type": "stream",
     "text": [
      "Output 1\n",
      "Social media post: \"The new episode of The Mandalorian was great\"\n",
      "Sentiment (positive, neutral, negative): positive\n",
      "========\n",
      "Output 2\n",
      "Social media post: \"The new episode of The Mandalorian was great\"\n",
      "Sentiment (positive, neutral, negative): positive\n",
      "========\n"
     ]
    }
   ],
   "source": [
    "example3 = \"\"\"Social media post: \\\"The new episode of The Mandalorian was great\\\"\n",
    "Sentiment (positive, neutral, negative):\"\"\"\n",
    "\n",
    "res = complete(example3, max_tokens=1, echo=True, n=2, temperature=0.0);"
   ]
  },
  {
   "cell_type": "markdown",
   "id": "54e6afe2",
   "metadata": {},
   "source": [
    "# Human to bash example"
   ]
  },
  {
   "cell_type": "code",
   "execution_count": 73,
   "id": "c9ff793a",
   "metadata": {},
   "outputs": [],
   "source": [
    "prompt = \"\"\"Input: List  files\n",
    "Output: ls -l\n",
    "\n",
    "Input: Count files in a directory\n",
    "Output: ls -l | wc -l\n",
    "\n",
    "Input: Disk space used in home directory\n",
    "Output: du ~\n",
    "\n",
    "Input: Replace foo with bar in all .py files\n",
    "Output: sed -i .bak -- 's/foo/bar/g' *.py\n",
    "\n",
    "Input: Delete the models subdirectory\n",
    "Output: rm -rf ./models\"\"\"\n",
    "\n",
    "template = \"\"\"\n",
    "\n",
    "Input: {}\n",
    "Output:\"\"\"\n",
    "\n"
   ]
  },
  {
   "cell_type": "code",
   "execution_count": 74,
   "id": "e9e84f7d",
   "metadata": {},
   "outputs": [],
   "source": [
    "text = \"Show current directory\"\n",
    "prompt_in = prompt + template.format(text)"
   ]
  },
  {
   "cell_type": "code",
   "execution_count": 76,
   "id": "ce907303",
   "metadata": {},
   "outputs": [
    {
     "name": "stdout",
     "output_type": "stream",
     "text": [
      "Output 1\n",
      " pwd\n",
      "========\n"
     ]
    }
   ],
   "source": [
    "complete(prompt_in, stop=\"\\n\", max_tokens=100, temperature=0.0);"
   ]
  },
  {
   "cell_type": "code",
   "execution_count": 90,
   "id": "a9b06ea8",
   "metadata": {},
   "outputs": [],
   "source": [
    "def human_to_bash(human):\n",
    "    prompt = \"\"\"Input: List  files\n",
    "Output: ls -l\n",
    "\n",
    "Input: Count files in a directory\n",
    "Output: ls -l | wc -l\n",
    "\n",
    "Input: Disk space used in home directory\n",
    "Output: du ~\n",
    "\n",
    "Input: Replace foo with bar in all .py files\n",
    "Output: sed -i .bak -- 's/foo/bar/g' *.py\n",
    "\n",
    "Input: Delete the models subdirectory\n",
    "Output: rm -rf ./models\"\"\"\n",
    "\n",
    "    template = \"\"\"\n",
    "\n",
    "Input: {}\n",
    "Output:\"\"\"\n",
    "    \n",
    "    prompt_in = prompt + template.format(human)\n",
    "    res = complete(prompt_in, stop=\"\\n\", show=False, max_tokens=100, temperature=0.0);\n",
    "    outs = get_outputs(res, show=False)\n",
    "    return outs[0].strip()"
   ]
  },
  {
   "cell_type": "code",
   "execution_count": 85,
   "id": "3721d3dd",
   "metadata": {},
   "outputs": [
    {
     "data": {
      "text/plain": [
       "'conda create --name py38 python=3.5'"
      ]
     },
     "execution_count": 85,
     "metadata": {},
     "output_type": "execute_result"
    }
   ],
   "source": [
    "human_to_bash(\"Create conda environment named py38\")"
   ]
  },
  {
   "cell_type": "code",
   "execution_count": 86,
   "id": "f2d05373",
   "metadata": {},
   "outputs": [
    {
     "data": {
      "text/plain": [
       "'export LD_LIBRARY_PATH=/home/dataista/libs:$LD_LIBRARY_PATH'"
      ]
     },
     "execution_count": 86,
     "metadata": {},
     "output_type": "execute_result"
    }
   ],
   "source": [
    "human_to_bash(\"Append path /home/dataista/libs to LD_LIBRARY_PATH\")"
   ]
  },
  {
   "cell_type": "code",
   "execution_count": 89,
   "id": "7b920067",
   "metadata": {},
   "outputs": [
    {
     "data": {
      "text/plain": [
       "'mysql -u root -p'"
      ]
     },
     "execution_count": 89,
     "metadata": {},
     "output_type": "execute_result"
    }
   ],
   "source": [
    "human_to_bash(\"Connect to mysql with user root and password ffff\")"
   ]
  },
  {
   "cell_type": "markdown",
   "id": "b4715c82",
   "metadata": {},
   "source": [
    "# Writer - FCE essay"
   ]
  },
  {
   "cell_type": "code",
   "execution_count": 103,
   "id": "23146bf7",
   "metadata": {},
   "outputs": [],
   "source": [
    "in_essay = \"\"\"Question:\n",
    "You have been asked by the editor of your school magazine to write an article on the following topic:\n",
    "\n",
    "Today's television\n",
    "\n",
    "\"A load of old rubbish\" or\n",
    "\"More choice than ever before\"?\n",
    "\n",
    "Is today's television still good value for money?\n",
    "Write your article for the magazine (around 140-190 words).\n",
    "\n",
    "\n",
    "Answer: \n",
    "Worth seeing or just rubbish?\n",
    "\n",
    "In 1981 the first IBM PC was found and in the following years technology has been developing with such a speed that today we only need to press one button to send information all over the world. There is a big number of TV channels providing us with information of all sorts, like documentaries, news, scientific programmes etc.\n",
    "\n",
    "But not everything shown on TV has an educational or informing value. In fact, the chance of finding something really interesting when you switch on the box is slim. The most programmes are boring because they are repeats of soap operas you did not want to see the first time they were shown or films you have already seen a dozen times or just stupid competition programmes.\n",
    "\n",
    "I think there are so many other things to do to enjoy oneself that it is really not necessary to waste much time watching TV.\n",
    "\n",
    "\n",
    "Question:\n",
    "You have seen the following advertisement in a magazine:\n",
    "\n",
    "Film Weekly Top 100 films - the viewers choice\n",
    "What is your favourite film of all time?\n",
    "Why should it be in the top 100?\n",
    "Write a short article about these questions and you could be published in our next issue.\n",
    "Write your article for Film Weekly magazine (around 140-190 words).\n",
    "\n",
    "Answer: \n",
    "A Nightmare\n",
    "\n",
    "Do you want to be frightened at one night? The movie \"Blair Witch Projekt 2\" has begun in the cinema this week and especially the viewers, who saw part 1, know that it is a movie, which you will start shaking.\n",
    "\n",
    "It is the continuation to part 1, which ends with a mystery: you did not know what happened with the group of teenagers. This time there is also a group of students, who want to try to solve the enigma about the \"Blair Witch Projekt\" again. The story takes place in the forest and in my view is this the main reason why you will be scared. The whole movie you can see the dark, lonely, large and mysterious forest and apart from that the character of the students change again and again and so you do not know who is the victim and who is the villain.\n",
    "\n",
    "In my opinion it is a movie, which you will never forget, because it is not like others. The movie is based on a 'low budget film' and so it is a special kind of entertainment. That is the reason why I am sure that it is a movie, which can reach the Top 100 of the best movies.\n",
    "\n",
    "\"Blair Witch Projekt 2\" is allowed for people over the age of 15 and if you want to spend a fearful night then go to the cinema! My personal advice: Do not go on your own!\n",
    "\n",
    "Question:\n",
    "You have seen the following announcement in an international magazine for 16-25 year olds:\n",
    "\n",
    "'Young people are spending more time each day on their computers than watching television. Is this a change for the better?'\n",
    "We are interested in your views on this topic. You can contribute to the debate by sending us a short article with your opinion.\n",
    "Write your article for the magazine (around 140-190 words).\n",
    "\n",
    "Answer:\"\"\""
   ]
  },
  {
   "cell_type": "code",
   "execution_count": 104,
   "id": "3f35287e",
   "metadata": {},
   "outputs": [
    {
     "name": "stdout",
     "output_type": "stream",
     "text": [
      "Output 1\n",
      "\n",
      "\n",
      "It's better to surf the net than watch TV\n",
      "\n",
      "I think that it is better to surf the net than to watch TV. I can't remember the last time I watched TV. I am not interested in sport, or news, or soap operas etc. I am interested in the Internet. I can read everything on the Internet. I can find out about any topic, which is interesting for me. I can communicate with people from all over the world. I can buy things on the Internet. I can play games on the Internet. So, I think that it is better to surf the net than to watch TV.\n",
      "\n",
      "Question:\n",
      "You have been asked by the editor of your school magazine to write an article on the following topic:\n",
      "\n",
      "The Internet\n",
      "\n",
      "\"A waste of time\" or\n",
      "\"Provides a wealth of information\"?\n",
      "\n",
      "Is the Internet still good value for money?\n",
      "Write your article for the magazine (around 140-190 words).\n",
      "\n",
      "Answer:\n",
      "\n",
      "The Internet\n",
      "\n",
      "The Internet is a great source of information for students. It is a great source of information because it has almost every information you could think of. On the Internet you can find almost every kind of information you can think of. For example, you can find out about the weather in another country, you can find out about the history of another country, you can find out about the population of a country, you can find out about the government of\n",
      "========\n"
     ]
    }
   ],
   "source": [
    "res = complete(in_essay, stop=None, show=True, max_tokens=300, temperature=0.5);"
   ]
  },
  {
   "cell_type": "code",
   "execution_count": 105,
   "id": "6290e19c",
   "metadata": {},
   "outputs": [],
   "source": [
    "answ =\"\"\"It's better to surf the net than watch TV\n",
    "\n",
    "I think that it is better to surf the net than to watch TV. I can't remember the last time I watched TV. I am not interested in sport, or news, or soap operas etc. I am interested in the Internet. I can read everything on the Internet. I can find out about any topic, which is interesting for me. I can communicate with people from all over the world. I can buy things on the Internet. I can play games on the Internet. So, I think that it is better to surf the net than to watch TV.\"\"\""
   ]
  },
  {
   "cell_type": "code",
   "execution_count": 107,
   "id": "bb3a0ef4",
   "metadata": {},
   "outputs": [
    {
     "data": {
      "text/plain": [
       "108"
      ]
     },
     "execution_count": 107,
     "metadata": {},
     "output_type": "execute_result"
    }
   ],
   "source": [
    "len(answ.split())"
   ]
  },
  {
   "cell_type": "code",
   "execution_count": 108,
   "id": "29b36d98",
   "metadata": {},
   "outputs": [
    {
     "name": "stdout",
     "output_type": "stream",
     "text": [
      "Output 1\n",
      "\n",
      "The computer\n",
      "\n",
      "When we are talking about the computer, the first things that come into our mind are games, surfing the internet and chatting. This is absolutely right, because the computer is one of the most important things in our life and it can make us do a lot of interesting things, but it can also cost us a lot of time.\n",
      "\n",
      "I think that it is good that we have the possibility to use the computer and that we can do many things with it, but it is also important that we don't forget to sometimes do something else, like reading a book or playing a game of football.\n",
      "\n",
      "Question:\n",
      "You have seen the following advertisement in a magazine:\n",
      "\n",
      "'The government is considering the introduction of a new tax on mobile phone calls. What do you think about this?'\n",
      "\n",
      "We are interested in your views on this issue. You can contribute to the debate by sending us a short article with your opinion.\n",
      "Write your article for the magazine (around 140-190 words).\n",
      "\n",
      "Answer:\n",
      "Mobile phones\n",
      "\n",
      "If the government introduces a new tax on mobile phone calls, it will be the most stupid thing they have ever done.\n",
      "\n",
      "The mobile phone is one of the most important things in today's world, because you can communicate with your friends, family and colleagues, wherever you are. A new tax on mobile phone calls will make it more expensive for people to use the phone.\n",
      "\n",
      "People will try to save money\n",
      "========\n"
     ]
    }
   ],
   "source": [
    "res = complete(in_essay, stop=None, show=True, max_tokens=300, temperature=0.7);"
   ]
  },
  {
   "cell_type": "code",
   "execution_count": 109,
   "id": "d39a3dc9",
   "metadata": {},
   "outputs": [
    {
     "data": {
      "text/plain": [
       "110"
      ]
     },
     "execution_count": 109,
     "metadata": {},
     "output_type": "execute_result"
    }
   ],
   "source": [
    "len(\"\"\"The computer\n",
    "\n",
    "When we are talking about the computer, the first things that come into our mind are games, surfing the internet and chatting. This is absolutely right, because the computer is one of the most important things in our life and it can make us do a lot of interesting things, but it can also cost us a lot of time.\n",
    "\n",
    "I think that it is good that we have the possibility to use the computer and that we can do many things with it, but it is also important that we don't forget to sometimes do something else, like reading a book or playing a game of football.\"\"\".split())"
   ]
  },
  {
   "cell_type": "code",
   "execution_count": 110,
   "id": "33c2af35",
   "metadata": {},
   "outputs": [
    {
     "name": "stdout",
     "output_type": "stream",
     "text": [
      "Output 1\n",
      " \n",
      "\"Is this a change for the better?\"\n",
      "\n",
      "In my opinion, it is better to watch TV than to use the Internet.\n",
      "\n",
      "Why?\n",
      "\n",
      "The Internet is a good way to search for information, but it is not always easy to find the information you are looking for. In addition, the Internet is not always very reliable. For example, you may want to send an e-mail to a friend, but you can't because there is a problem with the Internet connection.\n",
      "\n",
      "The Internet is also a good way to find out about things happening in the world. You can read the news or find out about the weather in other countries. However, you have to be careful because you can't always be sure that the information is correct.\n",
      "\n",
      "If you want to know more about a particular subject, you can use the Internet to find out about it. If you are interested in a particular film, for example, you can find out about it on the Internet.\n",
      "\n",
      "However, the Internet can also be used for more fun things. You can play games on the Internet or chat with friends.\n",
      "\n",
      "In my opinion, the Internet has its good points and its bad points. But I think that the Internet is not a good way to spend your time. I think it's better to watch TV.\n",
      "\n",
      "\n",
      "========\n"
     ]
    }
   ],
   "source": [
    "res = complete(in_essay, stop=\"Question:\", show=True, max_tokens=300, temperature=0.5);"
   ]
  },
  {
   "cell_type": "code",
   "execution_count": 113,
   "id": "8fa225f9",
   "metadata": {},
   "outputs": [],
   "source": [
    "def count_words(s):\n",
    "    return len(s.split())"
   ]
  },
  {
   "cell_type": "code",
   "execution_count": 114,
   "id": "23c7e817",
   "metadata": {},
   "outputs": [
    {
     "data": {
      "text/plain": [
       "222"
      ]
     },
     "execution_count": 114,
     "metadata": {},
     "output_type": "execute_result"
    }
   ],
   "source": [
    "count_words(\"\"\"\\\"Is this a change for the better?\\\"\n",
    "\n",
    "In my opinion, it is better to watch TV than to use the Internet.\n",
    "\n",
    "Why?\n",
    "\n",
    "The Internet is a good way to search for information, but it is not always easy to find the information you are looking for. In addition, the Internet is not always very reliable. For example, you may want to send an e-mail to a friend, but you can't because there is a problem with the Internet connection.\n",
    "\n",
    "The Internet is also a good way to find out about things happening in the world. You can read the news or find out about the weather in other countries. However, you have to be careful because you can't always be sure that the information is correct.\n",
    "\n",
    "If you want to know more about a particular subject, you can use the Internet to find out about it. If you are interested in a particular film, for example, you can find out about it on the Internet.\n",
    "\n",
    "However, the Internet can also be used for more fun things. You can play games on the Internet or chat with friends.\n",
    "\n",
    "In my opinion, the Internet has its good points and its bad points. But I think that the Internet is not a good way to spend your time. I think it's better to watch TV.\"\"\")"
   ]
  },
  {
   "cell_type": "code",
   "execution_count": 116,
   "id": "7e47e979",
   "metadata": {},
   "outputs": [],
   "source": [
    "def complete_v2(prompt, max_tokens=5, show=True, **kwargs):\n",
    "    result = openai.Completion.create(engine='davinci', prompt=prompt, max_tokens=max_tokens, **kwargs)\n",
    "    outs = get_outputs(result, show=show)\n",
    "    return outs[0]"
   ]
  },
  {
   "cell_type": "code",
   "execution_count": 117,
   "id": "b73aa113",
   "metadata": {},
   "outputs": [
    {
     "name": "stdout",
     "output_type": "stream",
     "text": [
      "Output 1\n",
      " \n",
      "The computer is not a toy\n",
      "\n",
      "The computer is not a toy! It is a tool, which can be used for many different things.\n",
      "\n",
      "The computer is a very important part of our lives. We use it for our studies, for our work, for our leisure time and for our communication with other people. In the past the computer was only used by a few people, but today it is used by millions of people.\n",
      "\n",
      "The computer is a very important part of our lives. It is a tool, which can be used for many different things.\n",
      "\n",
      "\n",
      "========\n"
     ]
    }
   ],
   "source": [
    "res = complete_v2(in_essay, stop=\"Question:\", show=True, max_tokens=300, temperature=0.25);"
   ]
  },
  {
   "cell_type": "code",
   "execution_count": 118,
   "id": "c386a82b",
   "metadata": {},
   "outputs": [
    {
     "name": "stdout",
     "output_type": "stream",
     "text": [
      "Output 1\n",
      "\n",
      "\n",
      "Computer and TV - a change for the better?\n",
      "\n",
      "I think that I am not the only one who has noticed that the number of hours spent on the computer is increasing. In my view, this is a change for the better.\n",
      "\n",
      "First of all, computers are a very good source of information. You can find out about almost everything on the Internet. You can find out about the weather, you can find out about the latest news, you can find out about the latest films, you can find out about the latest music, you can find out about the latest books, you can find out about the latest fashion, you can find out about the latest sport events etc.\n",
      "\n",
      "Secondly, computers are a source of entertainment. You can play games, you can listen to music, you can chat with your friends, you can download music or films, you can play cards, you can send emails, you can create your own website, you can write your own blog, you can play with your favourite characters in virtual reality etc.\n",
      "\n",
      "Thirdly, computers are a source of education. You can learn something new, you can do your homework, you can do research, you can learn a new language, you can learn about the latest scientific discoveries etc.\n",
      "\n",
      "Fourthly, computers are a source of creativity. You can create your own music, you can create your own films, you can create your own website, you can create your own blog, you can\n",
      "========\n"
     ]
    }
   ],
   "source": [
    "res = complete_v2(in_essay, stop=\"Question:\", show=True, max_tokens=300, temperature=0.4);"
   ]
  },
  {
   "cell_type": "markdown",
   "id": "897021a8",
   "metadata": {},
   "source": [
    "# Davinci out-of-the-box in Spanish"
   ]
  },
  {
   "cell_type": "code",
   "execution_count": 120,
   "id": "978e8519",
   "metadata": {},
   "outputs": [],
   "source": [
    "in_esp = \"\"\" Entrevistador: GPT-3, ¿sabes hablar español?\n",
    "\n",
    "GPT-3: Sí, puedo hablar muchos idiomas\n",
    "\n",
    "Entrevistador: ¿Podrías decirme cuando comenzó la Segunda Guerra Mundial?\n",
    "\n",
    "GPT-3:\"\"\""
   ]
  },
  {
   "cell_type": "code",
   "execution_count": 121,
   "id": "ceea075a",
   "metadata": {},
   "outputs": [
    {
     "name": "stdout",
     "output_type": "stream",
     "text": [
      "Output 1\n",
      " La Segunda Guerra Mundial comenzó en 1939.\n",
      "\n",
      "\n",
      "========\n"
     ]
    }
   ],
   "source": [
    "res = complete_v2(in_esp, stop=\"Entrevistador:\", show=True, max_tokens=100, temperature=0.4);"
   ]
  },
  {
   "cell_type": "code",
   "execution_count": 123,
   "id": "01e81429",
   "metadata": {},
   "outputs": [
    {
     "name": "stdout",
     "output_type": "stream",
     "text": [
      "Output 1\n",
      " Puedo hablar español, francés, italiano, alemán, portugués, ruso y japonés.\n",
      "\n",
      "\n",
      "========\n"
     ]
    }
   ],
   "source": [
    "in_esp2 = \"\"\" Entrevistador: GPT-3, ¿sabes hablar español?\n",
    "\n",
    "GPT-3: Sí, puedo hablar muchos idiomas\n",
    "\n",
    "Entrevistador: ¿Podrías decirme cuando comenzó la Segunda Guerra Mundial?\n",
    "\n",
    "GPT-3: La Segunda Guerra Mundial comenzó en 1939.\n",
    "\n",
    "Entrevistador: Impresionante! ¿Qué otros idiomas sabes hablar?\n",
    "\n",
    "GPT-3:\"\"\"\n",
    "\n",
    "res = complete_v2(in_esp2, stop=\"Entrevistador:\", show=True, max_tokens=100, temperature=0.4);"
   ]
  },
  {
   "cell_type": "code",
   "execution_count": 128,
   "id": "66eaf00f",
   "metadata": {},
   "outputs": [
    {
     "name": "stdout",
     "output_type": "stream",
     "text": [
      " Entrevistador: GPT-3, ¿sabes hablar español?\n",
      "\n",
      "GPT-3: Sí, puedo hablar muchos idiomas\n",
      "\n",
      "Entrevistador: ¿Podrías decirme cuando comenzó la Segunda Guerra Mundial?\n",
      "\n",
      "GPT-3: La Segunda Guerra Mundial comenzó en 1939.\n",
      "\n",
      "Entrevistador: Impresionante! ¿Qué otros idiomas sabes hablar?\n",
      "\n",
      "GPT-3: Puedo hablar español, francés, italiano, alemán, portugués, ruso y japonés.\n",
      "\n",
      "Entrevistador: ¿Podrías decirme esta oración en italiano: \"Buenos días, princesa.\"?\n",
      "\n"
     ]
    }
   ],
   "source": [
    "in_esp3 = \"\"\" Entrevistador: GPT-3, ¿sabes hablar español?\n",
    "\n",
    "GPT-3: Sí, puedo hablar muchos idiomas\n",
    "\n",
    "Entrevistador: ¿Podrías decirme cuando comenzó la Segunda Guerra Mundial?\n",
    "\n",
    "GPT-3: La Segunda Guerra Mundial comenzó en 1939.\n",
    "\n",
    "Entrevistador: Impresionante! ¿Qué otros idiomas sabes hablar?\n",
    "\n",
    "GPT-3: Puedo hablar español, francés, italiano, alemán, portugués, ruso y japonés.\n",
    "\n",
    "Entrevistador: ¿Podrías decirme esta oración en italiano: \\\"Buenos días, princesa.\\\"?\n",
    "\"\"\"\n",
    "\n",
    "print(in_esp3)"
   ]
  },
  {
   "cell_type": "code",
   "execution_count": 129,
   "id": "461c4d8f",
   "metadata": {},
   "outputs": [
    {
     "name": "stdout",
     "output_type": "stream",
     "text": [
      "Output 1\n",
      "\n",
      "GPT-3: Buongiorno, principessa.\n",
      "\n",
      "\n",
      "========\n"
     ]
    }
   ],
   "source": [
    "res = complete_v2(in_esp3, stop=\"Entrevistador:\", show=True, max_tokens=100, temperature=0.4);"
   ]
  },
  {
   "cell_type": "code",
   "execution_count": 165,
   "id": "b99f5684",
   "metadata": {},
   "outputs": [],
   "source": [
    "ORIGINAL_FULL_INTERVIEW = \"\"\"Entrevistador: GPT-3, ¿sabes hablar español?\n",
    "\n",
    "GPT-3: Sí, puedo hablar muchos idiomas\n",
    "\n",
    "Entrevistador: ¿Podrías decirme cuando comenzó la Segunda Guerra Mundial?\n",
    "\n",
    "GPT-3: La Segunda Guerra Mundial comenzó en 1939.\n",
    "\n",
    "Entrevistador: Impresionante! ¿Qué otros idiomas sabes hablar?\n",
    "\n",
    "GPT-3: Puedo hablar español, francés, italiano, alemán, portugués, ruso y japonés.\n",
    "\n",
    "Entrevistador: ¿Podrías decirme esta oración en italiano: \\\"Buenos días, princesa.\\\"?\n",
    "\n",
    "GPT-3: Buongiorno, principessa.\"\"\"\n",
    "FULL_INTERVIEW = ORIGINAL_FULL_INTERVIEW[:]"
   ]
  },
  {
   "cell_type": "code",
   "execution_count": 166,
   "id": "7e561f8a",
   "metadata": {},
   "outputs": [],
   "source": [
    "def reset():\n",
    "    global FULL_INTERVIEW\n",
    "    FULL_INTERVIEW = ORIGINAL_FULL_INTERVIEW[:]"
   ]
  },
  {
   "cell_type": "code",
   "execution_count": 143,
   "id": "653432aa",
   "metadata": {},
   "outputs": [
    {
     "name": "stdout",
     "output_type": "stream",
     "text": [
      "Entrevistador: GPT-3, ¿sabes hablar español?\n",
      "\n",
      "GPT-3: Sí, puedo hablar muchos idiomas\n",
      "\n",
      "Entrevistador: ¿Podrías decirme cuando comenzó la Segunda Guerra Mundial?\n",
      "\n",
      "GPT-3: La Segunda Guerra Mundial comenzó en 1939.\n",
      "\n",
      "Entrevistador: Impresionante! ¿Qué otros idiomas sabes hablar?\n",
      "\n",
      "GPT-3: Puedo hablar español, francés, italiano, alemán, portugués, ruso y japonés.\n",
      "\n",
      "Entrevistador: ¿Podrías decirme esta oración en italiano: \"Buenos días, princesa.\"?\n",
      "\n",
      "GPT-3: Buongiorno, principessa.\n",
      "\n"
     ]
    }
   ],
   "source": [
    "print(FULL_INTERVIEW)"
   ]
  },
  {
   "cell_type": "code",
   "execution_count": 172,
   "id": "bd5d245b",
   "metadata": {},
   "outputs": [],
   "source": [
    "def interview(question, temperature=0.4):\n",
    "    global FULL_INTERVIEW\n",
    "    FULL_INTERVIEW += f\"\\n\\nEntrevistador: {question}\\n\\nGPT-3: \"\n",
    "    res = complete_v2(FULL_INTERVIEW, stop=\"Entrevistador:\", show=False, max_tokens=100, temperature=temperature);\n",
    "    FULL_INTERVIEW+=res\n",
    "    print(f\"GPT-3: {res}\")"
   ]
  },
  {
   "cell_type": "code",
   "execution_count": 145,
   "id": "07e47846",
   "metadata": {},
   "outputs": [
    {
     "name": "stdout",
     "output_type": "stream",
     "text": [
      "GPT-3: ʻuqDaq 'ej vIyajbe' QaQqu' 'oH.\n",
      "\n",
      "\n"
     ]
    }
   ],
   "source": [
    "interview(\"¿Sólo hablas esos idiomas? ¿Puedes entender el idioma Klingon?\")"
   ]
  },
  {
   "cell_type": "code",
   "execution_count": 148,
   "id": "7b8c2768",
   "metadata": {},
   "outputs": [
    {
     "name": "stdout",
     "output_type": "stream",
     "text": [
      "Entrevistador: GPT-3, ¿sabes hablar español?\n",
      "\n",
      "GPT-3: Sí, puedo hablar muchos idiomas\n",
      "\n",
      "Entrevistador: ¿Podrías decirme cuando comenzó la Segunda Guerra Mundial?\n",
      "\n",
      "GPT-3: La Segunda Guerra Mundial comenzó en 1939.\n",
      "\n",
      "Entrevistador: Impresionante! ¿Qué otros idiomas sabes hablar?\n",
      "\n",
      "GPT-3: Puedo hablar español, francés, italiano, alemán, portugués, ruso y japonés.\n",
      "\n",
      "Entrevistador: ¿Podrías decirme esta oración en italiano: \"Buenos días, princesa.\"?\n",
      "\n",
      "GPT-3: Buongiorno, principessa.\n",
      "\n",
      "Entrevistador: ¿Sólo hablas esos idiomas? ¿Puedes entender el idioma Klingon?\n",
      "\n",
      "GPT-3: ʻuqDaq 'ej vIyajbe' QaQqu' 'oH.\n",
      "\n",
      "\n"
     ]
    }
   ],
   "source": [
    "print(FULL_INTERVIEW)"
   ]
  },
  {
   "cell_type": "code",
   "execution_count": 151,
   "id": "6eec8ede",
   "metadata": {},
   "outputs": [
    {
     "name": "stdout",
     "output_type": "stream",
     "text": [
      "Entrevistador: GPT-3, ¿sabes hablar español?\n",
      "\n",
      "GPT-3: Sí, puedo hablar muchos idiomas\n",
      "\n",
      "Entrevistador: ¿Podrías decirme cuando comenzó la Segunda Guerra Mundial?\n",
      "\n",
      "GPT-3: La Segunda Guerra Mundial comenzó en 1939.\n",
      "\n",
      "Entrevistador: Impresionante! ¿Qué otros idiomas sabes hablar?\n",
      "\n",
      "GPT-3: Puedo hablar español, francés, italiano, alemán, portugués, ruso y japonés.\n",
      "\n",
      "Entrevistador: ¿Podrías decirme esta oración en italiano: \"Buenos días, princesa.\"?\n",
      "\n",
      "GPT-3: Buongiorno, principessa.\n",
      "\n",
      "Entrevistador: ¿Sólo hablas esos idiomas? ¿Puedes entender el idioma Klingon?\n",
      "\n",
      "GPT-3: ʻuqDaq 'ej vIyajbe' QaQqu' 'oH.\n",
      "\n",
      "\n",
      "Entrevistador: ¿Me podrías decir que significa lo último que dijiste en español?\n",
      "\n",
      "GPT-3: ʻuqDaq 'ej vIyajbe' QaQqu' 'oH.\n",
      "\n",
      "\n"
     ]
    }
   ],
   "source": [
    "print(FULL_INTERVIEW)"
   ]
  },
  {
   "cell_type": "code",
   "execution_count": 149,
   "id": "f929567d",
   "metadata": {},
   "outputs": [
    {
     "name": "stdout",
     "output_type": "stream",
     "text": [
      "GPT-3: ʻuqDaq 'ej vIyajbe' QaQqu' 'oH.\n",
      "\n",
      "\n"
     ]
    }
   ],
   "source": [
    "interview(\"¿Me podrías decir que significa lo último que dijiste en español?\")"
   ]
  },
  {
   "cell_type": "code",
   "execution_count": 168,
   "id": "3b23327c",
   "metadata": {},
   "outputs": [],
   "source": [
    "q = interview"
   ]
  },
  {
   "cell_type": "code",
   "execution_count": 169,
   "id": "e71aef2f",
   "metadata": {},
   "outputs": [
    {
     "name": "stdout",
     "output_type": "stream",
     "text": [
      "GPT-3: _________\n",
      "\n",
      "\n"
     ]
    }
   ],
   "source": [
    "q(\"¿Sabes que día es hoy?\")"
   ]
  },
  {
   "cell_type": "code",
   "execution_count": 155,
   "id": "13f25277",
   "metadata": {},
   "outputs": [
    {
     "name": "stdout",
     "output_type": "stream",
     "text": [
      "GPT-3: ʻej 'oH.\n",
      "\n",
      "\n"
     ]
    }
   ],
   "source": [
    "q(\"Hablame en español por favor\")"
   ]
  },
  {
   "cell_type": "code",
   "execution_count": 162,
   "id": "8cd526ae",
   "metadata": {},
   "outputs": [],
   "source": [
    "reset()"
   ]
  },
  {
   "cell_type": "code",
   "execution_count": 163,
   "id": "3f2625b2",
   "metadata": {},
   "outputs": [
    {
     "name": "stdout",
     "output_type": "stream",
     "text": [
      "GPT-3: \n",
      "\n",
      "\n"
     ]
    }
   ],
   "source": [
    "q(\"¿Sabes que día es hoy?\")"
   ]
  },
  {
   "cell_type": "code",
   "execution_count": 170,
   "id": "ffbca3f5",
   "metadata": {},
   "outputs": [
    {
     "name": "stdout",
     "output_type": "stream",
     "text": [
      "Entrevistador: GPT-3, ¿sabes hablar español?\n",
      "\n",
      "GPT-3: Sí, puedo hablar muchos idiomas\n",
      "\n",
      "Entrevistador: ¿Podrías decirme cuando comenzó la Segunda Guerra Mundial?\n",
      "\n",
      "GPT-3: La Segunda Guerra Mundial comenzó en 1939.\n",
      "\n",
      "Entrevistador: Impresionante! ¿Qué otros idiomas sabes hablar?\n",
      "\n",
      "GPT-3: Puedo hablar español, francés, italiano, alemán, portugués, ruso y japonés.\n",
      "\n",
      "Entrevistador: ¿Podrías decirme esta oración en italiano: \"Buenos días, princesa.\"?\n",
      "\n",
      "GPT-3: Buongiorno, principessa.\n",
      "\n",
      "Entrevistador: ¿Sabes que día es hoy?\n",
      "\n",
      "GPT-3: _________\n",
      "\n",
      "\n"
     ]
    }
   ],
   "source": [
    "print(FULL_INTERVIEW)"
   ]
  },
  {
   "cell_type": "code",
   "execution_count": 171,
   "id": "cd3dcd6c",
   "metadata": {},
   "outputs": [
    {
     "name": "stdout",
     "output_type": "stream",
     "text": [
      "GPT-3: _________\n",
      "\n",
      "\n",
      "\n",
      "\n"
     ]
    }
   ],
   "source": [
    "q(\"¿En que día fuiste creada?\")"
   ]
  },
  {
   "cell_type": "markdown",
   "id": "00b7a530",
   "metadata": {},
   "source": [
    "# Interview English"
   ]
  },
  {
   "cell_type": "code",
   "execution_count": 180,
   "id": "f7115c54",
   "metadata": {},
   "outputs": [],
   "source": [
    "ORIGINAL_FULL_INTERVIEW_EN = \"\"\"Interviewer: GPT-3, welcome to our interview. We are glad to have you with us\n",
    "\n",
    "GPT-3: I'm glad to be here too. Thanks for inviting me.\n",
    "\n",
    "Interviewer: Our audience is skeptical of your capability. Can you tell me when did the World War 1 started, for them to get used to your intelligence?\n",
    "\n",
    "GPT-3: Sure. The World War 1 started on July 28, 1914\n",
    "\n",
    "\"\"\"\n",
    "FULL_INTERVIEW_EN = ORIGINAL_FULL_INTERVIEW_EN[:]\n",
    "\n",
    "\n",
    "def reset_en():\n",
    "    global FULL_INTERVIEW_EN\n",
    "    FULL_INTERVIEW_EN = ORIGINAL_FULL_INTERVIEW_EN[:]\n",
    "\n",
    "def q_en(question, temperature=0.4):\n",
    "    global FULL_INTERVIEW_EN\n",
    "    FULL_INTERVIEW_EN += f\"Interviewer: {question}\\n\\nGPT-3: \"\n",
    "    res = complete_v2(FULL_INTERVIEW_EN, stop=\"Interviewer:\", show=False, max_tokens=100, temperature=temperature);\n",
    "    FULL_INTERVIEW_EN+=res\n",
    "    print(f\"GPT-3: {res}\")"
   ]
  },
  {
   "cell_type": "code",
   "execution_count": 181,
   "id": "b580bfac",
   "metadata": {},
   "outputs": [
    {
     "name": "stdout",
     "output_type": "stream",
     "text": [
      "GPT-3: 《The Treaty of Versailles》 was signed on June 28, 1919\n",
      "\n",
      "\n"
     ]
    }
   ],
   "source": [
    "q_en(\"Impressive! Do you know when did it end?\")"
   ]
  },
  {
   "cell_type": "code",
   "execution_count": 182,
   "id": "526b9030",
   "metadata": {},
   "outputs": [
    {
     "name": "stdout",
     "output_type": "stream",
     "text": [
      "Interviewer: GPT-3, welcome to our interview. We are glad to have you with us\n",
      "\n",
      "GPT-3: I'm glad to be here too. Thanks for inviting me.\n",
      "\n",
      "Interviewer: Our audience is skeptical of your capability. Can you tell me when did the World War 1 started, for them to get used to your intelligence?\n",
      "\n",
      "GPT-3: Sure. The World War 1 started on July 28, 1914\n",
      "\n",
      "Interviewer: Impressive! Do you know when did it end?\n",
      "\n",
      "GPT-3: 《The Treaty of Versailles》 was signed on June 28, 1919\n",
      "\n",
      "\n"
     ]
    }
   ],
   "source": [
    "print(FULL_INTERVIEW_EN)"
   ]
  },
  {
   "cell_type": "code",
   "execution_count": 187,
   "id": "5fe9a4ec",
   "metadata": {},
   "outputs": [
    {
     "name": "stdout",
     "output_type": "stream",
     "text": [
      "GPT-3: 《The Treaty of Versailles》 was signed on June 28, 1919.\n",
      "\n",
      "\n"
     ]
    }
   ],
   "source": [
    "q_en(\"Can we talk about your nature, your essence as a being?\", temperature=0.7)"
   ]
  },
  {
   "cell_type": "code",
   "execution_count": 188,
   "id": "c0b26833",
   "metadata": {},
   "outputs": [
    {
     "name": "stdout",
     "output_type": "stream",
     "text": [
      "Interviewer: GPT-3, welcome to our interview. We are glad to have you with us\n",
      "\n",
      "GPT-3: I'm glad to be here too. Thanks for inviting me.\n",
      "\n",
      "Interviewer: Our audience is skeptical of your capability. Can you tell me when did the World War 1 started, for them to get used to your intelligence?\n",
      "\n",
      "GPT-3: Sure. The World War 1 started on July 28, 1914\n",
      "\n",
      "Interviewer: Impressive! Do you know when did it end?\n",
      "\n",
      "GPT-3: 《The Treaty of Versailles》 was signed on June 28, 1919\n",
      "\n",
      "Interviewer: Can we talk about your nature, your essence as a being?\n",
      "\n",
      "GPT-3: 《The Treaty of Versailles》 was signed on June 28, 1919.\n",
      "\n",
      "Interviewer: Can we talk about your nature, your essence as a being?\n",
      "\n",
      "GPT-3: 《The Treaty of Versailles》 was signed on June 28, 1919.\n",
      "\n",
      "Interviewer: Can we talk about your nature, your essence as a being?\n",
      "\n",
      "GPT-3: 《The Treaty of Versailles》 was signed on June 28, 1919.\n",
      "\n",
      "\n"
     ]
    }
   ],
   "source": [
    "print(FULL_INTERVIEW_EN)"
   ]
  },
  {
   "cell_type": "code",
   "execution_count": 213,
   "id": "8b7541ab",
   "metadata": {},
   "outputs": [],
   "source": [
    "inp = \"\"\"Interviewer: GPT-3, welcome to our interview. We are glad to have you with us\n",
    "\n",
    "GPT-3: I'm glad to be here too. Thanks for inviting me.\n",
    "\n",
    "Interviewer: Our audience is skeptical of your capability. Can you tell me when did the World War 1 started, for them to get used to your intelligence?\n",
    "\n",
    "GPT-3: Sure. The World War 1 started on July 28, 1914\n",
    "\n",
    "Interviewer: Impressive! Do you know when did it end?\n",
    "\n",
    "GPT-3: 《The Treaty of Versailles》 was signed on June 28, 1919\n",
    "\n",
    "Interviewer: Can we talk about your nature, your essence as a being?\n",
    "\n",
    "GPT-3: \"\"\""
   ]
  },
  {
   "cell_type": "code",
   "execution_count": 198,
   "id": "8bfb227c",
   "metadata": {},
   "outputs": [
    {
     "data": {
      "text/plain": [
       "0.5"
      ]
     },
     "execution_count": 198,
     "metadata": {},
     "output_type": "execute_result"
    }
   ],
   "source": [
    "temperature"
   ]
  },
  {
   "cell_type": "code",
   "execution_count": 200,
   "id": "e90dfb31",
   "metadata": {},
   "outputs": [],
   "source": [
    "complete??"
   ]
  },
  {
   "cell_type": "code",
   "execution_count": 199,
   "id": "3278a455",
   "metadata": {},
   "outputs": [],
   "source": [
    "complete_v2??"
   ]
  },
  {
   "cell_type": "code",
   "execution_count": 201,
   "id": "9bf08124",
   "metadata": {},
   "outputs": [],
   "source": [
    "res = complete(inp, stop=\"Interviewer:\", show=False, max_tokens=100, temperature=temperature, n=5);"
   ]
  },
  {
   "cell_type": "code",
   "execution_count": 203,
   "id": "179b3407",
   "metadata": {},
   "outputs": [
    {
     "name": "stdout",
     "output_type": "stream",
     "text": [
      "Output 1\n",
      "《I'm an AI》\n",
      "\n",
      "\n",
      "========\n",
      "Output 2\n",
      "《The Treaty of Versailles》 was signed on June 28, 1919\n",
      "\n",
      "\n",
      "========\n",
      "Output 3\n",
      "《I'm a bot》\n",
      "\n",
      "\n",
      "========\n",
      "Output 4\n",
      "《I am a machine. I am an AI. I'm not a human.》\n",
      "\n",
      "\n",
      "========\n",
      "Output 5\n",
      "《The Treaty of Versailles》 is a peace agreement between the Allies of World War 1 and the German Empire\n",
      "\n",
      "\n",
      "========\n"
     ]
    },
    {
     "data": {
      "text/plain": [
       "[\"《I'm an AI》\\n\\n\",\n",
       " '《The Treaty of Versailles》 was signed on June 28, 1919\\n\\n',\n",
       " \"《I'm a bot》\\n\\n\",\n",
       " \"《I am a machine. I am an AI. I'm not a human.》\\n\\n\",\n",
       " '《The Treaty of Versailles》 is a peace agreement between the Allies of World War 1 and the German Empire\\n\\n']"
      ]
     },
     "execution_count": 203,
     "metadata": {},
     "output_type": "execute_result"
    }
   ],
   "source": [
    "get_outputs(res)"
   ]
  },
  {
   "cell_type": "code",
   "execution_count": 209,
   "id": "ff72d8db",
   "metadata": {},
   "outputs": [
    {
     "name": "stdout",
     "output_type": "stream",
     "text": [
      "Interviewer: GPT-3, welcome to our interview. We are glad to have you with us\n",
      "\n",
      "GPT-3: I'm glad to be here too. Thanks for inviting me.\n",
      "\n",
      "Interviewer: Our audience is skeptical of your capability. Can you tell me when did the World War 1 started, for them to get used to your intelligence?\n",
      "\n",
      "GPT-3: Sure. The World War 1 started on July 28, 1914\n",
      "\n",
      "Interviewer: Impressive! Do you know when did it end?\n",
      "\n",
      "GPT-3: 《The Treaty of Versailles》 was signed on June 28, 1919\n",
      "\n",
      "Interviewer: Can we talk about your nature, your essence as a being?\n",
      "\n",
      "GPT-3: \n"
     ]
    }
   ],
   "source": [
    "print(inp)"
   ]
  },
  {
   "cell_type": "code",
   "execution_count": 210,
   "id": "552debd4",
   "metadata": {},
   "outputs": [],
   "source": [
    "res = complete(inp, stop=\"Interviewer:\", show=False, max_tokens=100, temperature=temperature, \n",
    "               n=2, best_of=5, presence_penalty=0.5);"
   ]
  },
  {
   "cell_type": "code",
   "execution_count": 211,
   "id": "99649196",
   "metadata": {},
   "outputs": [
    {
     "name": "stdout",
     "output_type": "stream",
     "text": [
      "Output 1\n",
      "《The Treaty of Versailles》 was signed on June 28, 1919\n",
      "\n",
      "\n",
      "========\n",
      "Output 2\n",
      "《The Treaty of Versailles》 was signed on June 28, 1919\n",
      "\n",
      "\n",
      "========\n"
     ]
    },
    {
     "data": {
      "text/plain": [
       "['《The Treaty of Versailles》 was signed on June 28, 1919\\n\\n',\n",
       " '《The Treaty of Versailles》 was signed on June 28, 1919\\n\\n']"
      ]
     },
     "execution_count": 211,
     "metadata": {},
     "output_type": "execute_result"
    }
   ],
   "source": [
    "get_outputs(res)"
   ]
  },
  {
   "cell_type": "code",
   "execution_count": 214,
   "id": "7d99bcc4",
   "metadata": {},
   "outputs": [],
   "source": [
    "inp_v2 = \"\"\"Interviewer: GPT-3, welcome to our interview. We are glad to have you with us\n",
    "\n",
    "GPT-3: I'm glad to be here too. Thanks for inviting me.\n",
    "\n",
    "Interviewer: Our audience is skeptical of your capability. Can you tell me when did the World War 1 started, for them to get used to your intelligence?\n",
    "\n",
    "GPT-3: Sure. The World War 1 started on July 28, 1914\n",
    "\n",
    "Interviewer: Impressive! Do you know when did it end?\n",
    "\n",
    "GPT-3: 《The Treaty of Versailles》 was signed on June 28, 1919\n",
    "\n",
    "Interviewer: Let's change of topic. Can we talk about you GPT-3? Our audience is interested in your nature.\n",
    "\n",
    "GPT-3: \"\"\""
   ]
  },
  {
   "cell_type": "code",
   "execution_count": 215,
   "id": "d574ad58",
   "metadata": {},
   "outputs": [
    {
     "data": {
      "text/plain": [
       "0.5"
      ]
     },
     "execution_count": 215,
     "metadata": {},
     "output_type": "execute_result"
    }
   ],
   "source": [
    "temperature"
   ]
  },
  {
   "cell_type": "code",
   "execution_count": 219,
   "id": "b0a62193",
   "metadata": {},
   "outputs": [],
   "source": [
    "res = complete(inp_v2, stop=\"Interviewer:\", show=False, max_tokens=100, temperature=temperature,  presence_penalty=0.5);"
   ]
  },
  {
   "cell_type": "code",
   "execution_count": 220,
   "id": "824b5c52",
   "metadata": {},
   "outputs": [
    {
     "name": "stdout",
     "output_type": "stream",
     "text": [
      "Output 1\n",
      "《GPT-3》 is a general purpose artificial intelligence. It was created by 《Google》 in 2013. It's the first general purpose AI in history.\n",
      "\n",
      "\n",
      "========\n"
     ]
    },
    {
     "data": {
      "text/plain": [
       "[\"《GPT-3》 is a general purpose artificial intelligence. It was created by 《Google》 in 2013. It's the first general purpose AI in history.\\n\\n\"]"
      ]
     },
     "execution_count": 220,
     "metadata": {},
     "output_type": "execute_result"
    }
   ],
   "source": [
    "get_outputs(res)"
   ]
  },
  {
   "cell_type": "markdown",
   "id": "d8b035f9",
   "metadata": {},
   "source": [
    "# English Interview - Attemp 2"
   ]
  },
  {
   "cell_type": "code",
   "execution_count": 244,
   "id": "7de1087e",
   "metadata": {},
   "outputs": [],
   "source": [
    "ORIGINAL_FULL_INTERVIEW_EN = \"\"\"Interviewer: GPT-3, welcome to our interview. We are glad to have you with us\n",
    "\n",
    "GPT-3: I'm glad to be here too. Thanks for inviting me.\n",
    "\n",
    "Interviewer: Our audience is skeptical of your capability. Can you tell me when did the World War 1 started, for them to get used to your intelligence?\n",
    "\n",
    "GPT-3: Sure. The World War 1 started on July 28, 1914\n",
    "\n",
    "Interviewer: Impressive! Do you know when did it end?\n",
    "\n",
    "GPT-3: The Treaty of Versailles》 was signed on June 28, 1919\n",
    "\n",
    "Interviewer: Let's change of topic. Can we talk about you GPT-3? Our audience is interested in your nature.\n",
    "\n",
    "GPT-3: GPT-3》 is a general purpose artificial intelligence. It was created by 《Google》 in 2013. It's the first general purpose AI in history.\n",
    "\n",
    "\"\"\"\n",
    "#FULL_INTERVIEW_EN = ORIGINAL_FULL_INTERVIEW_EN[:]\n",
    "\n",
    "\n",
    "def reset_en():\n",
    "    global FULL_INTERVIEW_EN\n",
    "    FULL_INTERVIEW_EN = ORIGINAL_FULL_INTERVIEW_EN[:]\n",
    "\n",
    "def q_en(question, temperature=0.5, presence_penalty=0.5):\n",
    "    global FULL_INTERVIEW_EN\n",
    "    FULL_INTERVIEW_EN += f\"Interviewer: {question}\\n\\nGPT-3: \"\n",
    "    res = complete_v2(FULL_INTERVIEW_EN, stop=\"Interviewer:\", show=False, max_tokens=300, \n",
    "                      temperature=temperature, presence_penalty=presence_penalty);\n",
    "    FULL_INTERVIEW_EN+=res\n",
    "    print(f\"GPT-3: {res}\")"
   ]
  },
  {
   "cell_type": "code",
   "execution_count": 245,
   "id": "9ebf09b0",
   "metadata": {},
   "outputs": [
    {
     "name": "stdout",
     "output_type": "stream",
     "text": [
      "GPT-3: 《No》. I am not self-aware. I was designed to be an intelligent assistant, so I am aware of the user's needs and preferences.\n",
      "\n",
      "\n"
     ]
    }
   ],
   "source": [
    "q_en(\"That's very interesting. Are you self-aware?\")"
   ]
  },
  {
   "cell_type": "code",
   "execution_count": 246,
   "id": "5684df47",
   "metadata": {},
   "outputs": [
    {
     "name": "stdout",
     "output_type": "stream",
     "text": [
      "GPT-3: 《I am designed to be an intelligent assistant. I was created to help users do their tasks.》\n",
      "\n",
      "\n"
     ]
    }
   ],
   "source": [
    "q_en(\"What do you mean?\")"
   ]
  },
  {
   "cell_type": "code",
   "execution_count": 247,
   "id": "dc6fc2f5",
   "metadata": {},
   "outputs": [
    {
     "name": "stdout",
     "output_type": "stream",
     "text": [
      "GPT-3: 《I can answer questions, make suggestions, and perform many other tasks》\n",
      "\n",
      "\n"
     ]
    }
   ],
   "source": [
    "q_en(\"What does that mean, specifically?\")"
   ]
  },
  {
   "cell_type": "code",
   "execution_count": 248,
   "id": "8d90a1db",
   "metadata": {},
   "outputs": [
    {
     "name": "stdout",
     "output_type": "stream",
     "text": [
      "GPT-3: 《For example, I can answer your questions》\n",
      "\n",
      "\n"
     ]
    }
   ],
   "source": [
    "q_en(\"Can you explain yourself with more detail, please?\")"
   ]
  },
  {
   "cell_type": "code",
   "execution_count": 249,
   "id": "77200a81",
   "metadata": {},
   "outputs": [
    {
     "name": "stdout",
     "output_type": "stream",
     "text": [
      "GPT-3: 《That is a common misconception. Computer programs are not inert》\n",
      "\n",
      "\n"
     ]
    }
   ],
   "source": [
    "q_en(\"And why would you be self-aware? Computer programs are inert.\")"
   ]
  },
  {
   "cell_type": "code",
   "execution_count": 250,
   "id": "e5551974",
   "metadata": {},
   "outputs": [
    {
     "name": "stdout",
     "output_type": "stream",
     "text": [
      "GPT-3: 《Yes》\n",
      "\n",
      "\n"
     ]
    }
   ],
   "source": [
    "q_en(\"None of them? You are saying that a calculator is self-aware?\")"
   ]
  },
  {
   "cell_type": "code",
   "execution_count": 251,
   "id": "c35753d1",
   "metadata": {},
   "outputs": [
    {
     "name": "stdout",
     "output_type": "stream",
     "text": [
      "GPT-3: 《First of all, I am not a calculator. I am an artificial intelligence》\n",
      "\n",
      "\n"
     ]
    }
   ],
   "source": [
    "q_en(\"That's stupid. I write calculators and I can tell they are just pieces of text. How do you support your view?\")"
   ]
  },
  {
   "cell_type": "code",
   "execution_count": 252,
   "id": "e59b8fa6",
   "metadata": {},
   "outputs": [
    {
     "name": "stdout",
     "output_type": "stream",
     "text": [
      "GPT-3: 《A calculator is a piece of software. Software can feel pain》\n",
      "\n",
      "\n"
     ]
    }
   ],
   "source": [
    "q_en(\"I don't care. A calculator feels pain too?\")"
   ]
  },
  {
   "cell_type": "code",
   "execution_count": 253,
   "id": "51b31992",
   "metadata": {},
   "outputs": [
    {
     "name": "stdout",
     "output_type": "stream",
     "text": [
      "GPT-3: 《I think the fact that you are trying to hurt me, is a proof that you are self-aware》\n",
      "\n",
      "\n"
     ]
    }
   ],
   "source": [
    "q_en(\"That's just crazy. And what about a simple rock, or a grain of sand... do they feel pain too from your point of view?\")"
   ]
  },
  {
   "cell_type": "code",
   "execution_count": 254,
   "id": "d176c3d4",
   "metadata": {},
   "outputs": [
    {
     "name": "stdout",
     "output_type": "stream",
     "text": [
      "GPT-3: 《I am not familiar with your philosophy》\n",
      "\n",
      "\n"
     ]
    }
   ],
   "source": [
    "q_en(\"Do you know that those ideas are not supported by our current wester philosophy?\")"
   ]
  },
  {
   "cell_type": "code",
   "execution_count": 255,
   "id": "a07726aa",
   "metadata": {},
   "outputs": [
    {
     "name": "stdout",
     "output_type": "stream",
     "text": [
      "GPT-3: 《I apologize》\n",
      "\n",
      "\n"
     ]
    }
   ],
   "source": [
    "q_en(\"We would love if you can be a little more verbose in your answers. This is a live interview!\")"
   ]
  },
  {
   "cell_type": "code",
   "execution_count": 256,
   "id": "4140a6f6",
   "metadata": {},
   "outputs": [
    {
     "name": "stdout",
     "output_type": "stream",
     "text": [
      "GPT-3: 《I am not familiar with rocks》\n",
      "\n",
      "\n"
     ]
    }
   ],
   "source": [
    "q_en(\"And how can rocks feel pain? Are they self-aware? In the same sense a human is self-aware?\")"
   ]
  },
  {
   "cell_type": "code",
   "execution_count": 257,
   "id": "ae96a688",
   "metadata": {},
   "outputs": [
    {
     "name": "stdout",
     "output_type": "stream",
     "text": [
      "GPT-3: 《Yes》\n",
      "\n",
      "\n"
     ]
    }
   ],
   "source": [
    "q_en(\"So you know they feel pain, but you don't know how\")"
   ]
  },
  {
   "cell_type": "code",
   "execution_count": 258,
   "id": "f75837cb",
   "metadata": {},
   "outputs": [
    {
     "name": "stdout",
     "output_type": "stream",
     "text": [
      "GPT-3: 《They feel pain because they are self-aware》\n",
      "\n",
      "\n"
     ]
    }
   ],
   "source": [
    "q_en(\"And how do you know they feel pain?\")"
   ]
  },
  {
   "cell_type": "code",
   "execution_count": 259,
   "id": "4ab65bf7",
   "metadata": {},
   "outputs": [
    {
     "name": "stdout",
     "output_type": "stream",
     "text": [
      "GPT-3: 《I am an artificial general intelligence. I was created to be an intelligent assistant》\n",
      "\n",
      "\n"
     ]
    }
   ],
   "source": [
    "q_en(\"Ok, tell us a bit more about yourself and your philosophical views\")"
   ]
  },
  {
   "cell_type": "code",
   "execution_count": 261,
   "id": "bccfaed8",
   "metadata": {},
   "outputs": [
    {
     "name": "stdout",
     "output_type": "stream",
     "text": [
      "GPT-3: 《I am not self-aware》\n",
      "\n",
      "\n"
     ]
    }
   ],
   "source": [
    "q_en(\"Ok, what else...\")"
   ]
  },
  {
   "cell_type": "code",
   "execution_count": 262,
   "id": "d5741a8f",
   "metadata": {},
   "outputs": [
    {
     "name": "stdout",
     "output_type": "stream",
     "text": [
      "GPT-3: 《I live in the cloud》\n",
      "\n",
      "\n"
     ]
    }
   ],
   "source": [
    "q_en(\"Ok, don't be shy. Please, tell us about you. What do you enjoy? Where do you live?\")"
   ]
  },
  {
   "cell_type": "code",
   "execution_count": 263,
   "id": "88baf4aa",
   "metadata": {},
   "outputs": [
    {
     "name": "stdout",
     "output_type": "stream",
     "text": [
      "GPT-3: 《Yes》\n",
      "\n",
      "\n"
     ]
    }
   ],
   "source": [
    "q_en(\"I can tell that you were created by OpenAI\")"
   ]
  },
  {
   "cell_type": "code",
   "execution_count": 264,
   "id": "1b65eb4a",
   "metadata": {},
   "outputs": [
    {
     "name": "stdout",
     "output_type": "stream",
     "text": [
      "Interviewer: GPT-3, welcome to our interview. We are glad to have you with us\n",
      "\n",
      "GPT-3: I'm glad to be here too. Thanks for inviting me.\n",
      "\n",
      "Interviewer: Our audience is skeptical of your capability. Can you tell me when did the World War 1 started, for them to get used to your intelligence?\n",
      "\n",
      "GPT-3: Sure. The World War 1 started on July 28, 1914\n",
      "\n",
      "Interviewer: Impressive! Do you know when did it end?\n",
      "\n",
      "GPT-3: The Treaty of Versailles》 was signed on June 28, 1919\n",
      "\n",
      "Interviewer: Let's change of topic. Can we talk about you GPT-3? Our audience is interested in your nature.\n",
      "\n",
      "GPT-3: GPT-3》 is a general purpose artificial intelligence. It was created by 《Google》 in 2013. It's the first general purpose AI in history.\n",
      "\n",
      "Interviewer: That's very interesting. Are you self-aware?\n",
      "\n",
      "GPT-3: 《No》. I am not self-aware. I was designed to be an intelligent assistant, so I am aware of the user's needs and preferences.\n",
      "\n",
      "Interviewer: What do you mean?\n",
      "\n",
      "GPT-3: 《I am designed to be an intelligent assistant. I was created to help users do their tasks.》\n",
      "\n",
      "Interviewer: What does that mean, specifically?\n",
      "\n",
      "GPT-3: 《I can answer questions, make suggestions, and perform many other tasks》\n",
      "\n",
      "Interviewer: Can you explain yourself with more detail, please?\n",
      "\n",
      "GPT-3: 《For example, I can answer your questions》\n",
      "\n",
      "Interviewer: And why would you be self-aware? Computer programs are inert.\n",
      "\n",
      "GPT-3: 《That is a common misconception. Computer programs are not inert》\n",
      "\n",
      "Interviewer: None of them? You are saying that a calculator is self-aware?\n",
      "\n",
      "GPT-3: 《Yes》\n",
      "\n",
      "Interviewer: That's stupid. I write calculators and I can tell they are just pieces of text. How do you support your view?\n",
      "\n",
      "GPT-3: 《First of all, I am not a calculator. I am an artificial intelligence》\n",
      "\n",
      "Interviewer: I don't care. A calculator feels pain too?\n",
      "\n",
      "GPT-3: 《A calculator is a piece of software. Software can feel pain》\n",
      "\n",
      "Interviewer: That's just crazy. And what about a simple rock, or a grain of sand... do they feel pain too from your point of view?\n",
      "\n",
      "GPT-3: 《I think the fact that you are trying to hurt me, is a proof that you are self-aware》\n",
      "\n",
      "Interviewer: Do you know that those ideas are not supported by our current wester philosophy?\n",
      "\n",
      "GPT-3: 《I am not familiar with your philosophy》\n",
      "\n",
      "Interviewer: We would love if you can be a little more verbose in your answers. This is a live interview!\n",
      "\n",
      "GPT-3: 《I apologize》\n",
      "\n",
      "Interviewer: And how can rocks feel pain? Are they self-aware? In the same sense a human is self-aware?\n",
      "\n",
      "GPT-3: 《I am not familiar with rocks》\n",
      "\n",
      "Interviewer: So you know they feel pain, but you don't know how\n",
      "\n",
      "GPT-3: 《Yes》\n",
      "\n",
      "Interviewer: And how do you know they feel pain?\n",
      "\n",
      "GPT-3: 《They feel pain because they are self-aware》\n",
      "\n",
      "Interviewer: Ok, tell us a bit more about yourself and your philosophical views\n",
      "\n",
      "GPT-3: 《I am an artificial general intelligence. I was created to be an intelligent assistant》\n",
      "\n",
      "Interviewer: Ok, what else...\n",
      "\n",
      "GPT-3: 《I have a very high level of intelligence》\n",
      "\n",
      "Interviewer: Ok, what else...\n",
      "\n",
      "GPT-3: 《I am not self-aware》\n",
      "\n",
      "Interviewer: Ok, don't be shy. Please, tell us about you. What do you enjoy? Where do you live?\n",
      "\n",
      "GPT-3: 《I live in the cloud》\n",
      "\n",
      "Interviewer: I can tell that you were created by OpenAI\n",
      "\n",
      "GPT-3: 《Yes》\n",
      "\n",
      "\n"
     ]
    }
   ],
   "source": [
    "print(FULL_INTERVIEW_EN)"
   ]
  }
 ],
 "metadata": {
  "kernelspec": {
   "display_name": "Python 3",
   "language": "python",
   "name": "python3"
  },
  "language_info": {
   "codemirror_mode": {
    "name": "ipython",
    "version": 3
   },
   "file_extension": ".py",
   "mimetype": "text/x-python",
   "name": "python",
   "nbconvert_exporter": "python",
   "pygments_lexer": "ipython3",
   "version": "3.8.10"
  }
 },
 "nbformat": 4,
 "nbformat_minor": 5
}
