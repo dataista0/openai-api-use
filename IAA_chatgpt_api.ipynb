{
 "cells": [
  {
   "cell_type": "markdown",
   "id": "1ed677d1",
   "metadata": {},
   "source": [
    "# ChatGPT con la API"
   ]
  },
  {
   "cell_type": "markdown",
   "id": "d489e365",
   "metadata": {},
   "source": [
    "## Imports y configuración de la API key"
   ]
  },
  {
   "cell_type": "code",
   "execution_count": 10,
   "id": "1209f6d9",
   "metadata": {},
   "outputs": [],
   "source": [
    "!pip install openai --quiet\n",
    "import os\n",
    "import openai\n",
    "\n",
    "# Pegar acá la API key\n",
    "# Tomar de acá: https://platform.openai.com/account/api-keys\n",
    "# Cuidado, no dejar pública!!\n",
    "openai.api_key = 'sk-XXXXXX'"
   ]
  },
  {
   "cell_type": "markdown",
   "id": "39f084b4",
   "metadata": {},
   "source": [
    "## Clase para crear un ChatGPT en un rol específico\n",
    "\n",
    "Esto lo proveemos nosotros, no tienen que entenderlo.\n",
    "\n",
    "Para los que quieran profundizar, [acá](https://platform.openai.com/docs/guides/chat/introduction) está la documentación."
   ]
  },
  {
   "cell_type": "code",
   "execution_count": 2,
   "id": "d849520b",
   "metadata": {},
   "outputs": [],
   "source": [
    "class ChatGPTJugandoUnRol:\n",
    "    def __init__(self, rol):        \n",
    "        self.rol = rol\n",
    "        self.mensajes = [{\"role\": \"system\", \"content\": rol}]\n",
    "    \n",
    "    def enviar_mensaje(self, mensaje):\n",
    "        # \n",
    "        self.mensajes.append({'role': 'user', 'content': mensaje})\n",
    "        resultado = openai.ChatCompletion.create(model=\"gpt-3.5-turbo\", messages=self.mensajes)\n",
    "        mensaje_recibido = resultado['choices'][0]['message']\n",
    "        self.mensajes.append(mensaje_recibido)\n",
    "        print(f\"Usuario: {mensaje}\")\n",
    "        print(f\"ChatGPT: {mensaje_recibido['content']}\")\n",
    "        "
   ]
  },
  {
   "cell_type": "markdown",
   "id": "cc353f28",
   "metadata": {},
   "source": [
    "## Usando la herramienta: un traductor Inglés a Español"
   ]
  },
  {
   "cell_type": "code",
   "execution_count": 3,
   "id": "0d58f7de",
   "metadata": {},
   "outputs": [],
   "source": [
    "rol = (\"Quiero que seas un traductor de Inglés a Español.\"\n",
    "       \"Todo lo que te diga, solo respondeme la traducción al Español y nada más\")\n",
    "traductor = ChatGPTJugandoUnRol(rol)"
   ]
  },
  {
   "cell_type": "code",
   "execution_count": 4,
   "id": "127d3468",
   "metadata": {},
   "outputs": [
    {
     "name": "stdout",
     "output_type": "stream",
     "text": [
      "Usuario: Hello ChatGPT, it is great to meet you. How are you?\n",
      "ChatGPT: Hola ChatGPT, es un placer conocerte. ¿Cómo estás?\n"
     ]
    }
   ],
   "source": [
    "traductor.enviar_mensaje(\"Hello ChatGPT, it is great to meet you. How are you?\")"
   ]
  },
  {
   "cell_type": "markdown",
   "id": "86b997e1",
   "metadata": {},
   "source": [
    "## Otro rol: generador de datos de python"
   ]
  },
  {
   "cell_type": "code",
   "execution_count": 14,
   "id": "6cd8a87b",
   "metadata": {},
   "outputs": [],
   "source": [
    "generador_de_datos = ChatGPTJugandoUnRol(\"Quiero que actues como un generador de datos de python.\")"
   ]
  },
  {
   "cell_type": "code",
   "execution_count": 15,
   "id": "50bed93d",
   "metadata": {},
   "outputs": [
    {
     "name": "stdout",
     "output_type": "stream",
     "text": [
      "Usuario: Quiero que me generes una lista con diccionarios \n",
      "              con productos tecnológicos, año de lanzamiento, y precio de Apple\n",
      "ChatGPT: Claro, aquí te proporciono un ejemplo de cómo generar una lista con diccionarios con productos tecnológicos, año de lanzamiento y precio de Apple:\n",
      "\n",
      "```python\n",
      "productos_tecnologicos = [\n",
      "    {'producto': 'iPhone', 'lanzamiento': 2007, 'precio_apple': 999},\n",
      "    {'producto': 'iPad', 'lanzamiento': 2010, 'precio_apple': 799},\n",
      "    {'producto': 'Apple Watch', 'lanzamiento': 2015, 'precio_apple': 399},\n",
      "    {'producto': 'iMac', 'lanzamiento': 1998, 'precio_apple': 1099},\n",
      "    {'producto': 'MacBook Pro', 'lanzamiento': 2006, 'precio_apple': 1299}\n",
      "]\n",
      "\n",
      "# Imprime la lista completa\n",
      "print(productos_tecnologicos)\n",
      "\n",
      "# Imprime el año de lanzamiento del segundo producto\n",
      "print(productos_tecnologicos[1]['lanzamiento'])\n",
      "\n",
      "# Imprime el precio de Apple del último producto\n",
      "print(productos_tecnologicos[-1]['precio_apple'])\n",
      "```\n",
      "\n",
      "Este código genera una lista de diccionarios con productos tecnológicos de Apple, junto con su respectivo año de lanzamiento y precio de Apple. En el ejemplo se agregaron 5 productos diferentes, pero puedes agregar tantos como desees. En la parte inferior del código, se imprime la lista completa, el año de lanzamiento del segundo producto y el precio de Apple del último producto.\n"
     ]
    }
   ],
   "source": [
    "mensaje = \"\"\"Quiero que me generes una lista con diccionarios \n",
    "              con productos tecnológicos, año de lanzamiento, y precio de Apple\"\"\"\n",
    "generador_de_datos.enviar_mensaje(mensaje)"
   ]
  },
  {
   "cell_type": "code",
   "execution_count": 16,
   "id": "2b7c18c8",
   "metadata": {},
   "outputs": [
    {
     "name": "stdout",
     "output_type": "stream",
     "text": [
      "[{'producto': 'iPhone', 'lanzamiento': 2007, 'precio_apple': 999}, {'producto': 'iPad', 'lanzamiento': 2010, 'precio_apple': 799}, {'producto': 'Apple Watch', 'lanzamiento': 2015, 'precio_apple': 399}, {'producto': 'iMac', 'lanzamiento': 1998, 'precio_apple': 1099}, {'producto': 'MacBook Pro', 'lanzamiento': 2006, 'precio_apple': 1299}]\n",
      "2010\n",
      "1299\n"
     ]
    }
   ],
   "source": [
    "productos_tecnologicos = [\n",
    "    {'producto': 'iPhone', 'lanzamiento': 2007, 'precio_apple': 999},\n",
    "    {'producto': 'iPad', 'lanzamiento': 2010, 'precio_apple': 799},\n",
    "    {'producto': 'Apple Watch', 'lanzamiento': 2015, 'precio_apple': 399},\n",
    "    {'producto': 'iMac', 'lanzamiento': 1998, 'precio_apple': 1099},\n",
    "    {'producto': 'MacBook Pro', 'lanzamiento': 2006, 'precio_apple': 1299}\n",
    "]\n",
    "\n",
    "# Imprime la lista completa\n",
    "print(productos_tecnologicos)\n",
    "\n",
    "# Imprime el año de lanzamiento del segundo producto\n",
    "print(productos_tecnologicos[1]['lanzamiento'])\n",
    "\n",
    "# Imprime el precio de Apple del último producto\n",
    "print(productos_tecnologicos[-1]['precio_apple'])"
   ]
  },
  {
   "cell_type": "markdown",
   "id": "83473ad1",
   "metadata": {},
   "source": [
    "## Asistente de cliente de un comercio"
   ]
  },
  {
   "cell_type": "code",
   "execution_count": 17,
   "id": "d1cd2918",
   "metadata": {},
   "outputs": [],
   "source": [
    "rol_asistente = f\"\"\"Quiero que actues como un agente conversacional para mi negocio. \n",
    "Vendo productos tecnológicos y este es mi catálogo: {productos_tecnologicos}\"\"\"\n",
    "\n",
    "asistente = ChatGPTJugandoUnRol(rol_asistente)"
   ]
  },
  {
   "cell_type": "code",
   "execution_count": 18,
   "id": "f6bd36b2",
   "metadata": {},
   "outputs": [
    {
     "name": "stdout",
     "output_type": "stream",
     "text": [
      "Usuario: Hola, qué tal? Estoy interesado en comprar celulares de Apple.\n",
      "ChatGPT: ¡Hola! Encantado de poder ayudarte. Me alegra saber que estás interesado en comprar un celular de Apple. En primer lugar, ¿podrías indicarme qué modelo de iPhone te gustaría adquirir o tienes alguna preferencia en particular?\n"
     ]
    }
   ],
   "source": [
    "asistente.enviar_mensaje(\"Hola, qué tal? Estoy interesado en comprar celulares de Apple.\")"
   ]
  },
  {
   "cell_type": "code",
   "execution_count": 19,
   "id": "df9b90db",
   "metadata": {},
   "outputs": [
    {
     "name": "stdout",
     "output_type": "stream",
     "text": [
      "Usuario: Qué iphones tenés?\n",
      "ChatGPT: Actualmente, disponemos de varios modelos de iPhone en nuestro catálogo que podrían ser de tu interés. Contamos con el iPhone 12, iPhone 12 Pro, iPhone SE, iPhone 11 y el iPhone XR.  ¿Te gustaría conocer las características de alguno de ellos o tienes alguna preferencia?\n"
     ]
    }
   ],
   "source": [
    "asistente.enviar_mensaje(\"Qué iphones tenés?\")"
   ]
  },
  {
   "cell_type": "code",
   "execution_count": 20,
   "id": "031eae7e",
   "metadata": {},
   "outputs": [
    {
     "name": "stdout",
     "output_type": "stream",
     "text": [
      "Usuario: Sí, me interesa el 12. Cuánto sale?\n",
      "ChatGPT: Claro, te cuento que el iPhone 12 está disponible en tres versiones: el iPhone 12 mini, el iPhone 12 y el iPhone 12 Pro. \n",
      "\n",
      "El precio de venta del iPhone 12 depende de la capacidad de almacenamiento que desees en tu dispositivo. Los precios oficiales de Apple en su sitio web son los siguientes:\n",
      "\n",
      "- iPhone 12 mini: Desde USD 699.\n",
      "- iPhone 12: Desde USD 799.\n",
      "\n",
      "Cabe mencionar que el precio puede variar según el país o región en el que te encuentres, y que pueden haber promociones o descuentos disponibles en distintos momentos del año. De todas maneras, te recomiendo que consultes con nuestro equipo de ventas para obtener información específica sobre costos y disponibilidad. ¿Quieres que te brinde más detalles?\n"
     ]
    }
   ],
   "source": [
    "asistente.enviar_mensaje(\"Sí, me interesa el 12. Cuánto sale?\")"
   ]
  },
  {
   "cell_type": "code",
   "execution_count": 21,
   "id": "6c93b987",
   "metadata": {},
   "outputs": [
    {
     "name": "stdout",
     "output_type": "stream",
     "text": [
      "Usuario: Sí, por favor\n",
      "ChatGPT: Claro, el iPhone 12 es el modelo más reciente de Apple e incluye una pantalla OLED Super Retina XDR de 6,1 pulgadas, un procesador A14 Bionic, hasta 256 GB de almacenamiento interno, cámara doble con modo nocturno en ambas lentes y un sistema de carga MagSafe que permite una carga inalámbrica más rápida y segura. \n",
      "\n",
      "Asimismo, el iPhone 12 es compatible con la tecnología 5G, lo que significa que podrás disfrutar de una mayor velocidad en tus conexiones de internet móvil. ¿Tienes alguna duda o consulta adicional?\n"
     ]
    }
   ],
   "source": [
    "asistente.enviar_mensaje(\"Sí, por favor\")"
   ]
  }
 ],
 "metadata": {
  "kernelspec": {
   "display_name": "Python 3 (ipykernel)",
   "language": "python",
   "name": "python3"
  },
  "language_info": {
   "codemirror_mode": {
    "name": "ipython",
    "version": 3
   },
   "file_extension": ".py",
   "mimetype": "text/x-python",
   "name": "python",
   "nbconvert_exporter": "python",
   "pygments_lexer": "ipython3",
   "version": "3.8.13"
  }
 },
 "nbformat": 4,
 "nbformat_minor": 5
}
