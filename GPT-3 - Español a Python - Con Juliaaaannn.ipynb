{
 "cells": [
  {
   "cell_type": "markdown",
   "id": "2f7a98ec",
   "metadata": {},
   "source": [
    "# Accesing GPT-3 API with Python\n",
    "\n",
    "\n",
    "### References\n",
    "\n",
    "* [Blog Post](https://openai.com/blog/openai-api/)\n",
    "* [Developer quickstart](https://beta.openai.com/docs/developer-quickstart/)\n",
    "* [What Is It Like to Be a Bat?](https://en.wikipedia.org/wiki/What_Is_It_Like_to_Be_a_Bat%3F)\n",
    "* [What It's Like To be a Computer: An Interview with GPT-3](https://www.youtube.com/watch?v=PqbB07n_uQ4)"
   ]
  },
  {
   "cell_type": "code",
   "execution_count": 2,
   "id": "7e2e049c",
   "metadata": {},
   "outputs": [],
   "source": [
    "import os\n",
    "import openai\n",
    "\n",
    "def get_api_key():\n",
    "    with open('api-key.txt', 'r') as fp:\n",
    "        key = fp.read()\n",
    "    return key\n",
    "\n",
    "\n",
    "openai.api_key = get_api_key()"
   ]
  },
  {
   "cell_type": "code",
   "execution_count": 14,
   "id": "087d768a",
   "metadata": {},
   "outputs": [],
   "source": [
    "inp = \"\"\"Input: Importar libreria django\n",
    "Output: import django\n",
    "\n",
    "Input: Iterar variable i sobre rango entre 0 y 9, imprimiendo i\n",
    "Output: for i in range(10): \n",
    "    print(i)\n",
    "    \n",
    "Input: Hacer zip de l y r\n",
    "Output: zip(l, r)\n",
    "\n",
    "Input: Imprimir la suma de a y b a pantalla\n",
    "Output: print(a + b)\n",
    "\n",
    "Input: {prompt}\n",
    "Output: \"\"\""
   ]
  },
  {
   "cell_type": "code",
   "execution_count": 6,
   "id": "b4cb509c",
   "metadata": {},
   "outputs": [
    {
     "name": "stdout",
     "output_type": "stream",
     "text": [
      "Input: Importar libreria django\n",
      "Output: import django\n",
      "\n",
      "Input: Iterar variable i sobre rango entre 0 y 9, imprimiendo i\n",
      "Output: for i in range(10): \n",
      "    print(i)\n",
      "    \n",
      "Input: Hacer zip de l y r\n",
      "Output: zip(l, r)\n",
      "\n",
      "Input: Imprimir la suma de a y b a pantalla\n",
      "Output: print(a + b)\n",
      "\n",
      "Input: Importar libreria warnings e ignorar todos los warnings\n",
      "Output: \n"
     ]
    }
   ],
   "source": [
    "x = inp.format(prompt=\"Importar libreria warnings e ignorar todos los warnings\")\n",
    "print(x)"
   ]
  },
  {
   "cell_type": "code",
   "execution_count": 8,
   "id": "35a6b3bb",
   "metadata": {},
   "outputs": [],
   "source": [
    "import warnings;\n",
    "warnings.simplefilter('ignore')"
   ]
  },
  {
   "cell_type": "code",
   "execution_count": 10,
   "id": "25b5caf0",
   "metadata": {},
   "outputs": [],
   "source": [
    "result = openai.Completion.create(engine='davinci', prompt=x, max_tokens=20, stop='Input:')"
   ]
  },
  {
   "cell_type": "code",
   "execution_count": 13,
   "id": "bbb12481",
   "metadata": {},
   "outputs": [
    {
     "name": "stdout",
     "output_type": "stream",
     "text": [
      "\n",
      "import warnings; warnings.filterwarnings(\"ignore\")\n",
      "\n",
      "\n"
     ]
    }
   ],
   "source": [
    "print(result['choices'][0]['text'])"
   ]
  },
  {
   "cell_type": "code",
   "execution_count": 33,
   "id": "a52d1cb8",
   "metadata": {},
   "outputs": [],
   "source": [
    "def spanish_to_python(spanish):\n",
    "    inp = \"\"\"Input: Importar libreria django\n",
    "Output: import django\n",
    "\n",
    "Input: Iterar variable i sobre rango entre 0 y 9, imprimiendo i\n",
    "Output: for i in range(10): \n",
    "    print(i)\n",
    "    \n",
    "Input: Hacer zip de l y r\n",
    "Output: zip(l, r)\n",
    "\n",
    "Input: Imprimir la suma de a y b a pantalla\n",
    "Output: print(a + b)\n",
    "\n",
    "Input: Cargar variable berlin_now con hora actual en Berlín\n",
    "Output: import pytz\n",
    "tz = pytz.timezone('Europe/Berlin')\n",
    "berlin_now = datetime.now(tz)\n",
    "\n",
    "Input: {prompt}\n",
    "Output: \"\"\"\n",
    "    \n",
    "    x = inp.format(prompt=spanish)\n",
    "    result = openai.Completion.create(engine='davinci', prompt=x, max_tokens=100, stop=['Input:', 'Output:'])\n",
    "    return result['choices'][0]['text']"
   ]
  },
  {
   "cell_type": "code",
   "execution_count": 36,
   "id": "901bef3a",
   "metadata": {},
   "outputs": [
    {
     "name": "stdout",
     "output_type": "stream",
     "text": [
      "\n",
      "\n",
      "\n"
     ]
    }
   ],
   "source": [
    "print(spanish_to_python(\"Ordenar la lista l en orden reverso\"))"
   ]
  },
  {
   "cell_type": "code",
   "execution_count": 37,
   "id": "b322b239",
   "metadata": {},
   "outputs": [],
   "source": [
    "res = spanish_to_python(\"Recibir horarios de argentina, calcular zona horaria de china y setear mensaje con el nombre de la ciudad de la zona horaria convertida\")"
   ]
  },
  {
   "cell_type": "code",
   "execution_count": 38,
   "id": "de2a8042",
   "metadata": {},
   "outputs": [
    {
     "name": "stdout",
     "output_type": "stream",
     "text": [
      "\n",
      "\n",
      "  from pytz.tzdata import timezone \n",
      "  zona = \"Asia/Shanghai\" \n",
      "  if zona == \"Chon\" :\n",
      "  print(\"{C%s, %s}\n",
      "\n",
      "\n",
      "\".format(berlin_now.date()+300, timezone))\n",
      "\n",
      "\n"
     ]
    }
   ],
   "source": [
    "print(res)"
   ]
  },
  {
   "cell_type": "code",
   "execution_count": 39,
   "id": "13f27a34",
   "metadata": {},
   "outputs": [
    {
     "name": "stdout",
     "output_type": "stream",
     "text": [
      "\n",
      " import pytz \n",
      " tz = pytz.timezone('America/Argentina/Buenos_Aires')\n",
      " t = datetime.combine(datetime.now(), tz)\n",
      "\n",
      "\n"
     ]
    }
   ],
   "source": [
    "print(spanish_to_python(\"Cargar hora actual de Argentina en variable t\"))"
   ]
  },
  {
   "cell_type": "code",
   "execution_count": 40,
   "id": "a41d251f",
   "metadata": {},
   "outputs": [
    {
     "name": "stdout",
     "output_type": "stream",
     "text": [
      "\n",
      "import time \n",
      "import pytz \n",
      "Argentina_Now = datetime.now(pytz.utc) ()\n",
      "\n",
      "\n"
     ]
    }
   ],
   "source": [
    "print(spanish_to_python(\"Cargar hora actual de Argentina en variable t importando las librerias requeridas previamente \"))"
   ]
  },
  {
   "cell_type": "code",
   "execution_count": 42,
   "id": "bf914417",
   "metadata": {},
   "outputs": [
    {
     "name": "stdout",
     "output_type": "stream",
     "text": [
      "\n",
      "ctime = pytz.timezone('Argentina/Buenos_Aires')\n",
      "TB = t.astimezone(ctime)\n",
      "\n",
      "\n"
     ]
    }
   ],
   "source": [
    "print(spanish_to_python(\"Cargar hora actual de Argentina en variable t y convertirla a hora en China\"))"
   ]
  },
  {
   "cell_type": "code",
   "execution_count": 43,
   "id": "f5113e75",
   "metadata": {},
   "outputs": [],
   "source": [
    "def get_outputs(response, show=True):\n",
    "    outs = [c['text'] for c in response['choices']]\n",
    "    if show:\n",
    "        for i, out in enumerate(outs, 1):\n",
    "            print(f\"Output {i}\")\n",
    "            print(out)\n",
    "            print(\"========\")\n",
    "    return outs\n",
    "\n",
    "\n",
    "def complete(prompt, max_tokens=5, show=True, **kwargs):\n",
    "    result = openai.Completion.create(engine='davinci', prompt=prompt, max_tokens=max_tokens, **kwargs)\n",
    "    get_outputs(result, show=show)\n",
    "    return result\n",
    "\n",
    "def human_to_bash(human):\n",
    "    prompt = \"\"\"Input: List files\n",
    "Output: ls -l\n",
    "\n",
    "Input: Count files in a directory\n",
    "Output: ls -l | wc -l\n",
    "\n",
    "Input: Disk space used in home directory\n",
    "Output: du ~\n",
    "\n",
    "Input: Replace foo with bar in all .py files\n",
    "Output: sed -i .bak -- 's/foo/bar/g' *.py\n",
    "\n",
    "Input: Delete the models subdirectory\n",
    "Output: rm -rf ./models\"\"\"\n",
    "\n",
    "    template = \"\"\"\n",
    "\n",
    "Input: {}\n",
    "Output:\"\"\"\n",
    "    \n",
    "    prompt_in = prompt + template.format(human)\n",
    "    res = complete(prompt_in, stop=\"\\n\", show=False, max_tokens=100, temperature=0.0);\n",
    "    outs = get_outputs(res, show=False)\n",
    "    return outs[0].strip()"
   ]
  },
  {
   "cell_type": "code",
   "execution_count": 50,
   "id": "1e210d62",
   "metadata": {},
   "outputs": [
    {
     "data": {
      "text/plain": [
       "'ssh -i ~/.ssh/id_rsa -p 35.211.204.135 dataista@35.211.204.135'"
      ]
     },
     "execution_count": 50,
     "metadata": {},
     "output_type": "execute_result"
    }
   ],
   "source": [
    "human_to_bash(\"Connect to IP 35.211.204.135 through SSH using key id_rsa in ~/.ssh folder and user 'dataista'\")"
   ]
  },
  {
   "cell_type": "code",
   "execution_count": 52,
   "id": "abbd1fee",
   "metadata": {},
   "outputs": [],
   "source": [
    "INICIO_ALEPH = \"\"\"La candente mañana de febrero en que Beatriz Viterbo murió, después de una imperiosa\n",
    "agonía que no se rebajó un solo instante ni al sentimentalismo ni al miedo, noté que las\n",
    "carteleras de fierro de la Plaza Constitución habían renovado no sé qué aviso de cigarrillos\n",
    "rubios; el hecho me dolió, pues comprendí que el incesante y vasto universo ya se apartaba\n",
    "de ella y que ese cambio era el primero de una serie infinita. Cambiará el universo pero yo\n",
    "no, pensé con melancólica vanidad; alguna vez, lo sé, mi vana devoción la había\n",
    "exasperado; muerta yo podía consagrarme a su memoria, sin esperanza, pero también sin\n",
    "humillación. Consideré que el treinta de abril era su cumpleaños; visitar ese día la casa de\n",
    "la calle Garay para saludar a su padre y a Carlos Argentino Daneri, su primo hermano, era\n",
    "un acto cortés, irreprochable, tal vez ineludible. De nuevo aguardaría\"\"\""
   ]
  },
  {
   "cell_type": "code",
   "execution_count": 54,
   "id": "a004511b",
   "metadata": {},
   "outputs": [
    {
     "name": "stdout",
     "output_type": "stream",
     "text": [
      "Output 1\n",
      ", como cada año, la llegada\n",
      "del barco de vapor de la ruta Valparaíso-Buenos Aires. Según adivinaciones de momento que iban\n",
      "sometiéndose al desorden de su fantasía, me figuraba que en la Circunvalación entran\n",
      "cuarenta tranvías y siete omnibuses, pero que de pie y vestido en pantalones vaqueros\n",
      "no pueden subir en vagón ni a campo ajenas de postes de luz, o que cinco trenes se\n",
      "encuentran en las estaciones de Saturnino Errazuriz, Prat y Plaza Constitución a la misma\n",
      "hora, llevando por cada uno de sus coches entre cuarenta y cuarenta y cinco anuncios\n",
      "hastiados y pidiendo refugio al lado de las muchachas. Hizo niño, pero ya tenía la conciencia\n",
      "de su muerte y hablaba de ella con profetía y amargura. Será ratificado en octubre por su\n",
      "aspiración de absorber y ser rigurosamente igual a la ética absolutista y a la muerte; en\n",
      "abril dejaré por última vez mis anoraks y hasta el mismo viejo impermeable aceitoso para el\n",
      "intervalo revolucionado de los sombreros emplumados. Mis amigas consintieron que yo\n",
      "viajara a Buenos Aires por tren y no en avión, para sospechar de la contemplación, el\n",
      "último placer dulce y sentimental, de lo presente. Llegué al termino de la frecuentada\n",
      "Perrot y me di cuenta que después de haber abandonado Buenos Aires se podía extraviar\n",
      "fácilmente hasta querellarse con el momento en que había dejado de ser viejo. ¡Las\n",
      "serviciosas carpas de ferrocarril! ¡Los guardias fuertes y sonámbulos! ¡Los hoteles de cuatro\n",
      "estrellas y sus comodidades! ¡La autonomía y la dependencia de los coperos! ¡Los trenes\n",
      "celerísimos con los semáforos a sus puertas de compartimentos y seis, cuatro y dos\n",
      "ahora, ventanillas! Yo llegué llorando y hablé con Carlos en el hospicio deseado por mí,\n",
      "calándome y alzando el sombrero y abriendo la boca, picaño el sombrero una vez, tras la\n",
      "sangrienta última versión de ¡Un beso! como retando la comprobación de quiénes sí y quiénes\n",
      "más, y tengo frío.\n",
      "\n",
      "\n",
      "========\n"
     ]
    }
   ],
   "source": [
    "res = complete(INICIO_ALEPH, show=True, max_tokens=1000);"
   ]
  },
  {
   "cell_type": "code",
   "execution_count": 57,
   "id": "cba53bb3",
   "metadata": {},
   "outputs": [],
   "source": [
    "INICIO_RIQUELME = \"\"\"Hola, soy Juan Román Riquelme. Para mí el predio es el lugar más lindo de todos, donde vienen los nenitos más chiquitos, donde está el equipo, donde uno tiene los sueños que quiere cumplir, donde tenemos la suerte de contar con muchos entrenadores que fueron jugadores de fútbol, que han sido campeones del mundo, que han sido campeones de América, que terminan sus entrenamientos a las 12 del mediodía todos los días y que se quedan hasta las cuatro o cinco de la tarde para ver qué pueden mejorar.\"\"\""
   ]
  },
  {
   "cell_type": "code",
   "execution_count": 58,
   "id": "ae702745",
   "metadata": {},
   "outputs": [
    {
     "name": "stdout",
     "output_type": "stream",
     "text": [
      "Hola, soy Juan Román Riquelme. Para mí el predio es el lugar más lindo de todos, donde vienen los nenitos más chiquitos, donde está el equipo, donde uno tiene los sueños que quiere cumplir, donde tenemos la suerte de contar con muchos entrenadores que fueron jugadores de fútbol, que han sido campeones del mundo, que han sido campeones de América, que terminan sus entrenamientos a las 12 del mediodía todos los días y que se quedan hasta las cuatro o cinco de la tarde para ver qué pueden mejorar.\n"
     ]
    }
   ],
   "source": [
    "print(INICIO_RIQUELME)"
   ]
  },
  {
   "cell_type": "code",
   "execution_count": 59,
   "id": "b1318d48",
   "metadata": {},
   "outputs": [
    {
     "name": "stdout",
     "output_type": "stream",
     "text": [
      "Output 1\n",
      " Para mí es el lugar más lindo de la humanidad.\n",
      "\n",
      "Este año, la Liga de Verano que va a ser de una semana y media el 14 de febrero a las 18 de ese día –claramente más tarde que la de otros años– va a que camine mano a mano también con la pretemporada, y como una parte de la pretemporada complica la preparación del fútbol, podemos decir que va a ser lo que denominamos pretemporada en primavera.\n",
      "\n",
      "A nivel de formación de la querencia hinchas también es un lugar vital. Todos los días demostramos a los nenitos y a los hinchas que los llevamos de la mano en todo el recorrido de esta lucha por un sueño. Los llevamos a jugar contra Boca, en el predio y en cancha del área chica. Y esto es formal en la Liga año a año y año con año.\n",
      "\n",
      "Este año también vamos a recuperar la querencia hincha increíblemente correcta frente a la Selección. Vamos a recuperar la querencia hincha en el Gobierno de la Ciudad. Si alguien está negando que fue una vergüenza no poder ver jugar una Selección de Estados Unidos probablemente no sepa lo que siente un hincha cuando no puede ver un partido en vivo, junto a la hinchada de Boca. Los que estuvieron no lo olvidan.\n",
      "\n",
      "Nosotros vamos a cumplir con las querencias también, haré todo lo posible porque quienes viajen queden contentos lo más posible. Por último y no por ello menos importante, 55 terrenos, porque vamos a ocupar 55 terrenos en un equipo de fútbol.\n",
      "\n",
      "Durante el partido nosotros vamos a estar concentrados junto a los jugadores, y vamos a hacer todo lo posible por ser de apoyo al equipo. No sólo voy a estar sentado en la tribuna, me voy a ubicar en el sector de hinchas afuera del predio como hincha con una bandera a mi compañero de hinchada vieja que tengo acá, que es Eric.\n",
      "\n",
      "Es un placer para mí y para él poder caminar con el equipo de fútbol Platense y con mi Club como entrenador. Juro por mis hijos, que por mis sobrinos, que por mis sobrinitos iba a c… en San Lorenzo cuando los abuelos ya querían comer o dormir. Así es. O hay mucha plata y compromisos que no se puede incumplir, o no.\n",
      "\n",
      "En cualquier caso, siempre tengo que caminar con los mismos colores y con la misma cara. Yo quiero conseguir esos colores, esa cara en esta responsabilidad entrenadora, con la responsabilidad que tiene uno preservando lo más posible al jugador. En todo el mundo hay una marca registrada, y la marca registrada de este Club y de buena parte de nuestros antecesores es la entrega.\n",
      "\n",
      "Desde mañana con total decisión yo voy a ofrecer mi capacidad y mis características a los hinchas, a los accionistas y siempre a mis jugadores.\n",
      "\n",
      "Para mí ser entrenador siempre es el privilegio más pleno. El día que pierdo cosas importantes, vamos a hablar el día de mañana. Ya lo hice como jugador también y ni me acordé. Lo juro por mis hijos Ezequiel, Ed\n",
      "========\n"
     ]
    }
   ],
   "source": [
    "res = complete(INICIO_RIQUELME, show=True, max_tokens=1000);"
   ]
  },
  {
   "cell_type": "code",
   "execution_count": null,
   "id": "7cf7073a",
   "metadata": {},
   "outputs": [],
   "source": []
  }
 ],
 "metadata": {
  "kernelspec": {
   "display_name": "Python 3",
   "language": "python",
   "name": "python3"
  },
  "language_info": {
   "codemirror_mode": {
    "name": "ipython",
    "version": 3
   },
   "file_extension": ".py",
   "mimetype": "text/x-python",
   "name": "python",
   "nbconvert_exporter": "python",
   "pygments_lexer": "ipython3",
   "version": "3.8.10"
  }
 },
 "nbformat": 4,
 "nbformat_minor": 5
}
