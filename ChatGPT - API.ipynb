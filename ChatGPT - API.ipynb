{
 "cells": [
  {
   "cell_type": "markdown",
   "id": "1ed677d1",
   "metadata": {},
   "source": [
    "# ChatGPT con la API\n",
    "\n",
    "\n",
    "### Referencias\n",
    "\n"
   ]
  },
  {
   "cell_type": "markdown",
   "id": "b9039450",
   "metadata": {},
   "source": [
    "## Instalar libreria"
   ]
  },
  {
   "cell_type": "code",
   "execution_count": 3,
   "id": "b27b306f",
   "metadata": {},
   "outputs": [],
   "source": [
    "#!pip install openai"
   ]
  },
  {
   "cell_type": "code",
   "execution_count": 4,
   "id": "1209f6d9",
   "metadata": {},
   "outputs": [],
   "source": [
    "import os\n",
    "import openai\n",
    "\n",
    "# Tiene que haber un archivo setteado con la API key\n",
    "def get_api_key():\n",
    "    with open('api-key.txt', 'r') as fp:\n",
    "        key = fp.read()\n",
    "    return key\n",
    "\n",
    "\n",
    "openai.api_key = get_api_key()"
   ]
  },
  {
   "cell_type": "code",
   "execution_count": 5,
   "id": "7301b9b6",
   "metadata": {},
   "outputs": [
    {
     "data": {
      "text/plain": [
       "<OpenAIObject chat.completion id=chatcmpl-6plpy3HHtWVL3xofweAt9gfEBciL1 at 0x7f3157848a90> JSON: {\n",
       "  \"choices\": [\n",
       "    {\n",
       "      \"finish_reason\": \"stop\",\n",
       "      \"index\": 0,\n",
       "      \"message\": {\n",
       "        \"content\": \"The 2020 World Series was played at Globe Life Field in Arlington, Texas.\",\n",
       "        \"role\": \"assistant\"\n",
       "      }\n",
       "    }\n",
       "  ],\n",
       "  \"created\": 1677796634,\n",
       "  \"id\": \"chatcmpl-6plpy3HHtWVL3xofweAt9gfEBciL1\",\n",
       "  \"model\": \"gpt-3.5-turbo-0301\",\n",
       "  \"object\": \"chat.completion\",\n",
       "  \"usage\": {\n",
       "    \"completion_tokens\": 19,\n",
       "    \"prompt_tokens\": 56,\n",
       "    \"total_tokens\": 75\n",
       "  }\n",
       "}"
      ]
     },
     "execution_count": 5,
     "metadata": {},
     "output_type": "execute_result"
    }
   ],
   "source": [
    "openai.ChatCompletion.create(\n",
    "  model=\"gpt-3.5-turbo\",\n",
    "  messages=[\n",
    "        {\"role\": \"system\", \"content\": \"You are a helpful assistant.\"},\n",
    "        {\"role\": \"user\", \"content\": \"Who won the world series in 2020?\"},\n",
    "        {\"role\": \"assistant\", \"content\": \"The Los Angeles Dodgers won the World Series in 2020.\"},\n",
    "        {\"role\": \"user\", \"content\": \"Where was it played?\"}\n",
    "    ]\n",
    ")"
   ]
  }
 ],
 "metadata": {
  "kernelspec": {
   "display_name": "Python 3 (ipykernel)",
   "language": "python",
   "name": "python3"
  },
  "language_info": {
   "codemirror_mode": {
    "name": "ipython",
    "version": 3
   },
   "file_extension": ".py",
   "mimetype": "text/x-python",
   "name": "python",
   "nbconvert_exporter": "python",
   "pygments_lexer": "ipython3",
   "version": "3.8.13"
  }
 },
 "nbformat": 4,
 "nbformat_minor": 5
}
